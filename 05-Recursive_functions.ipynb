{
 "cells": [
  {
   "cell_type": "markdown",
   "id": "zmwB-t6E4JKE",
   "metadata": {
    "id": "zmwB-t6E4JKE"
   },
   "source": [
    "# Recursive Function\n",
    "\n",
    "In this notebook, we will practice writing **recursive functions**.\n",
    "\n",
    " 📖 A recursive function is a function that calls itself to solve **smaller subproblems** of the original problem. For each recursive function, you need to think about two important steps:\n",
    "\n",
    "1. **When to stop Stop (Base Case):**  \n",
    "   The base case is the condition where the function stops calling itself. This is essential to prevent infinite recursion and is typically a simple case with a direct solution.\n",
    "\n",
    "2. **The Recursive Call:**  \n",
    "   This is where the function calls itself with a smaller or simpler version of the problem, gradually working towards the base case.\n",
    "\n",
    "🤓 For every recursive function, always ensure that:\n",
    "- The base case is well-defined and reachable.\n",
    "- The recursive calls reduce the size or complexity of the problem, so the function eventually reaches the base case.\n",
    "\n",
    "By following these principles, recursion can help you solve complex problems elegantly!"
   ]
  },
  {
   "cell_type": "markdown",
   "id": "406bc2be",
   "metadata": {
    "id": "406bc2be"
   },
   "source": [
    "## Exercice : factorial\n",
    "\n",
    "**Question:**\n",
    "\n",
    "<hr color=\"black\" />\n",
    "\n",
    "Write a function `factorial` that **takes in**:\n",
    "\n",
    "- An *integer* `n`\n",
    "\n",
    "The function **returns**:\n",
    "\n",
    "- The factorial of `n` (n! = n × (n-1) × ... × 1)\n",
    "\n",
    "**Hint:**\n",
    "\n",
    "- You need only one line of code. A `return` and a recursive call with the right parameters!\n",
    "- Don't worry about the value of `n`. In Python each `n` will be a new variable in its own scope. 🤯"
   ]
  },
  {
   "cell_type": "code",
   "execution_count": null,
   "id": "29275ee5",
   "metadata": {
    "id": "29275ee5"
   },
   "outputs": [],
   "source": [
    "def factorial(n):\n",
    "    # Base case: when do we stop\n",
    "    if n == 0:\n",
    "      return 1\n",
    "    \n",
    "    # The recursive call\n",
    "    pass # Delete the pass and finish the function!"
   ]
  },
  {
   "cell_type": "code",
   "execution_count": null,
   "id": "lksj9FTd8uSL",
   "metadata": {
    "colab": {
     "base_uri": "https://localhost:8080/"
    },
    "id": "lksj9FTd8uSL",
    "outputId": "1e7ed09e-c5a7-46d1-dd5a-f617bbcc5d3e"
   },
   "outputs": [],
   "source": [
    "factorial(6) # Should output 720"
   ]
  },
  {
   "cell_type": "markdown",
   "id": "21a31a6b",
   "metadata": {
    "id": "21a31a6b"
   },
   "source": [
    "## Exercice - Power\n",
    "\n",
    "**Question.**\n",
    "\n",
    "<hr color=\"black\" />\n",
    "\n",
    "Write a function `power` that **takes as inputs**:\n",
    "\n",
    "- A *number* `a`\n",
    "- A *non-negative integer* `n`\n",
    "\n",
    "The function **returns**:\n",
    "\n",
    "* the result of `a` raised to the power of `n` using the fact that: $a^n = a \\times a^{n-1}$.\n",
    "\n",
    "**Hint:**\n",
    "\n",
    "- Only one line of code, a return with the correct expression.\n"
   ]
  },
  {
   "cell_type": "code",
   "execution_count": null,
   "id": "fdfa217a",
   "metadata": {
    "id": "fdfa217a"
   },
   "outputs": [],
   "source": [
    "def power(a, n):\n",
    "  if n == 0:\n",
    "    return 1\n",
    "  pass # delete the pass and complete the function"
   ]
  },
  {
   "cell_type": "code",
   "execution_count": null,
   "id": "fb5b5b78",
   "metadata": {},
   "outputs": [],
   "source": [
    "2**16 # should output 65536"
   ]
  },
  {
   "cell_type": "markdown",
   "id": "d392259b",
   "metadata": {
    "id": "d392259b"
   },
   "source": [
    "## Exercice - Maximum of a List\n",
    "\n",
    "**Question:**\n",
    "\n",
    "<hr color=\"black\" />\n",
    "\n",
    "Write a recursive function `find_max` that **takes as inputs**:\n",
    "\n",
    "- A *list of numbers* `arr`\n",
    "\n",
    "The function **returns**:\n",
    "\n",
    "- The maximum of all elements in the list.\n",
    "\n",
    "**Hints:**\n",
    "\n",
    "- Call again the `find_max()` function on the same array but without the first element. Store it in a variable named `max_of_rest`.\n",
    "- Compare arr[0] and with `max_of_rest`, and return the biggest element of the two.\n",
    "- Only 2 or 3 lines of code are needed.\n"
   ]
  },
  {
   "cell_type": "code",
   "execution_count": null,
   "id": "1076e373",
   "metadata": {
    "id": "1076e373"
   },
   "outputs": [],
   "source": [
    "def find_max(arr):\n",
    "    # Base case: if the list has only one element, return that element\n",
    "    if len(arr) == 1:\n",
    "        return arr[0]\n",
    "\n",
    "    # Recursive case: compare the first element with the maximum of the rest of the list\n",
    "    else:\n",
    "        pass # Delete the pass and complete the function! (2 or 3 lines of code are needed)"
   ]
  },
  {
   "cell_type": "markdown",
   "id": "3510a6cc",
   "metadata": {
    "id": "3510a6cc"
   },
   "source": [
    "## Solve a Linear System of Equations"
   ]
  },
  {
   "cell_type": "markdown",
   "id": "cc184b37",
   "metadata": {},
   "source": [
    "### Mathematical Representation\n",
    "\n",
    "Let's consider the lists `[1, 2, 3, 4]` and `[2, 5, 5, 6]`. These lists can be interpreted as the coefficients of the following linear equations:\n",
    "\n",
    "- $1x + 2y + 3z + 4w = 0$\n",
    "- $2x + 5y + 5z + 6w = 0$\n",
    "\n",
    "Here, $x, y, z$ and $w$ are the variables, and the numbers in the lists are the coefficients of these variables."
   ]
  },
  {
   "cell_type": "code",
   "execution_count": null,
   "id": "YwC5Hq7-MF_M",
   "metadata": {
    "colab": {
     "base_uri": "https://localhost:8080/"
    },
    "id": "YwC5Hq7-MF_M",
    "outputId": "6028697a-05c7-4c26-bbbe-914265de2a5e"
   },
   "outputs": [],
   "source": [
    "def eliminate_variable(equation_1, equation_2):\n",
    "  coef = equation_2[0]/equation_1[0]\n",
    "  new_equation = []\n",
    "\n",
    "  # With zip (go through both lists in parallel)\n",
    "  for c1, c2 in zip(equation_1, equation_2):\n",
    "    new_equation.append(c2 - c1 * coef)\n",
    "\n",
    "  return new_equation\n",
    "\n",
    "# Example\n",
    "eliminate_variable([1,2,3,4], [2,5,5,6]) # should return [0, 1,  -1, -2]\n",
    "# eliminate_variable([2,0,3,1], [3,2,1,5]) should return ??????"
   ]
  },
  {
   "cell_type": "code",
   "execution_count": null,
   "id": "BqZlkkDFwqsZ",
   "metadata": {
    "colab": {
     "base_uri": "https://localhost:8080/"
    },
    "id": "BqZlkkDFwqsZ",
    "outputId": "8f48754a-e4c7-4234-ba8c-d5ac0f95b068"
   },
   "outputs": [],
   "source": [
    "equation = [1, -2, 3, 4]\n",
    "partial_solution = [5/2, -1/2] # for y and z\n",
    "\n",
    "def calculate_total(arr_1, arr_2):\n",
    "  total = 0\n",
    "  for el_1, el_2 in zip(arr_1, arr_2):\n",
    "    total += el_1 * el_2\n",
    "  return total\n",
    "\n",
    "def solve_for_missing_value(equation, partial_solution):\n",
    "  result = equation[-1] - calculate_total(equation[1:-1], partial_solution)\n",
    "  return result / equation[0]\n",
    "\n",
    "solve_for_missing_value(equation, partial_solution)"
   ]
  },
  {
   "cell_type": "code",
   "execution_count": null,
   "id": "CKhteoqTIvQu",
   "metadata": {
    "id": "CKhteoqTIvQu"
   },
   "outputs": [],
   "source": [
    "# Here we assume we have n equations with n unknowns\n",
    "def solve_linear_system(equations):\n",
    "  print(equations)\n",
    "  # Base case: only 1 equation\n",
    "  if len(equations) == 0:\n",
    "    return []\n",
    "\n",
    "  # Recursive case\n",
    "  first_equation = equations[0]\n",
    "\n",
    "  updated_equations = []\n",
    "\n",
    "  for equation in equations[1:]:\n",
    "    new_equation = eliminate_variable(first_equation, equation)[1:]\n",
    "    updated_equations.append(new_equation)\n",
    "\n",
    "  all_solutions_except_the_first_variable = solve_linear_system(updated_equations)\n",
    "\n",
    "  x_1 = solve_for_missing_value(first_equation, all_solutions_except_the_first_variable)\n",
    "  return [x_1] + all_solutions_except_the_first_variable"
   ]
  },
  {
   "cell_type": "code",
   "execution_count": null,
   "id": "Md27YfXgUS8H",
   "metadata": {
    "colab": {
     "base_uri": "https://localhost:8080/"
    },
    "id": "Md27YfXgUS8H",
    "outputId": "28cd1d1a-58bf-4bfe-d001-70ff99d4ddbc"
   },
   "outputs": [],
   "source": [
    "equations = [\n",
    "    [3, 1, 1, 7],\n",
    "    [4, 3, -1, 1],\n",
    "    [1, 2, -1, 4]\n",
    "]\n",
    "\n",
    "solve_linear_system(equations)"
   ]
  },
  {
   "cell_type": "markdown",
   "id": "87cfeb15",
   "metadata": {},
   "source": [
    "### An enhanced version"
   ]
  },
  {
   "cell_type": "code",
   "execution_count": null,
   "id": "cfa21986",
   "metadata": {},
   "outputs": [],
   "source": [
    "# https://www.geeksforgeeks.org/gaussian-elimination/\n",
    "# This code is contributed by phasing17\n",
    "\n",
    "# Python3 program to demonstrate working of\n",
    "# Gaussian Elimination method\n",
    "\n",
    "N = 3\n",
    "\n",
    "# function to get matrix content\n",
    "def gaussianElimination(mat):\n",
    "\n",
    "\t# reduction into r.e.f.\n",
    "\tsingular_flag = forwardElim(mat)\n",
    "\n",
    "\t# if matrix is singular\n",
    "\tif (singular_flag != -1):\n",
    "\n",
    "\t\tprint(\"Singular Matrix.\")\n",
    "\n",
    "\t\t# if the RHS of equation corresponding to\n",
    "\t\t# zero row is 0, * system has infinitely\n",
    "\t\t# many solutions, else inconsistent*/\n",
    "\t\tif (mat[singular_flag][N]):\n",
    "\t\t\tprint(\"Inconsistent System.\")\n",
    "\t\telse:\n",
    "\t\t\tprint(\"May have infinitely many solutions.\")\n",
    "\n",
    "\t\treturn\n",
    "\n",
    "\t# get solution to system and print it using\n",
    "\t# backward substitution\n",
    "\tbackSub(mat)\n",
    "\n",
    "# function for elementary operation of swapping two rows\n",
    "def swap_row(mat, i, j):\n",
    "\n",
    "\tfor k in range(N + 1):\n",
    "\n",
    "\t\ttemp = mat[i][k]\n",
    "\t\tmat[i][k] = mat[j][k]\n",
    "\t\tmat[j][k] = temp\n",
    "\n",
    "# function to reduce matrix to r.e.f.\n",
    "def forwardElim(mat):\n",
    "\tfor k in range(N):\n",
    "\t\n",
    "\t\t# Initialize maximum value and index for pivot\n",
    "\t\ti_max = k\n",
    "\t\tv_max = mat[i_max][k]\n",
    "\n",
    "\t\t# find greater amplitude for pivot if any\n",
    "\t\tfor i in range(k + 1, N):\n",
    "\t\t\tif (abs(mat[i][k]) > v_max):\n",
    "\t\t\t\tv_max = mat[i][k]\n",
    "\t\t\t\ti_max = i\n",
    "\n",
    "\t\t# if a principal diagonal element is zero,\n",
    "\t\t# it denotes that matrix is singular, and\n",
    "\t\t# will lead to a division-by-zero later.\n",
    "\t\tif not mat[k][i_max]:\n",
    "\t\t\treturn k # Matrix is singular\n",
    "\n",
    "\t\t# Swap the greatest value row with current row\n",
    "\t\tif (i_max != k):\n",
    "\t\t\tswap_row(mat, k, i_max)\n",
    "\n",
    "\t\tfor i in range(k + 1, N):\n",
    "\n",
    "\t\t\t# factor f to set current row kth element to 0,\n",
    "\t\t\t# and subsequently remaining kth column to 0 */\n",
    "\t\t\tf = mat[i][k]/mat[k][k]\n",
    "\n",
    "\t\t\t# subtract fth multiple of corresponding kth\n",
    "\t\t\t# row element*/\n",
    "\t\t\tfor j in range(k + 1, N + 1):\n",
    "\t\t\t\tmat[i][j] -= mat[k][j]*f\n",
    "\n",
    "\t\t\t# filling lower triangular matrix with zeros*/\n",
    "\t\t\tmat[i][k] = 0\n",
    "\n",
    "\t\t# print(mat);\t //for matrix state\n",
    "\n",
    "\t# print(mat);\t\t //for matrix state\n",
    "\treturn -1\n",
    "\n",
    "# function to calculate the values of the unknowns\n",
    "def backSub(mat):\n",
    "\n",
    "\tx = [None for _ in range(N)] # An array to store solution\n",
    "\n",
    "\t# Start calculating from last equation up to the\n",
    "\t# first */\n",
    "\tfor i in range(N-1, -1, -1):\n",
    "\n",
    "\t\t# start with the RHS of the equation */\n",
    "\t\tx[i] = mat[i][N]\n",
    "\n",
    "\t\t# Initialize j to i+1 since matrix is upper\n",
    "\t\t# triangular*/\n",
    "\t\tfor j in range(i + 1, N):\n",
    "\t\t\n",
    "\t\t\t# subtract all the lhs values\n",
    "\t\t\t# except the coefficient of the variable\n",
    "\t\t\t# whose value is being calculated */\n",
    "\t\t\tx[i] -= mat[i][j]*x[j]\n",
    "\n",
    "\t\t# divide the RHS by the coefficient of the\n",
    "\t\t# unknown being calculated\n",
    "\t\tx[i] = (x[i]/mat[i][i])\n",
    "\n",
    "\tprint(\"\\nSolution for the system:\")\n",
    "\tfor i in range(N):\n",
    "\t\tprint(\"{:.8f}\".format(x[i]))\n",
    "\n",
    "# Driver program\n",
    "\n",
    "# input matrix\n",
    "mat = [[3.0, 2.0, -4.0, 3.0], [2.0, 3.0, 3.0, 15.0], [5.0, -3, 1.0, 14.0]]\n",
    "gaussianElimination(mat)"
   ]
  }
 ],
 "metadata": {
  "colab": {
   "provenance": []
  },
  "kernelspec": {
   "display_name": "py131",
   "language": "python",
   "name": "python3"
  },
  "language_info": {
   "codemirror_mode": {
    "name": "ipython",
    "version": 3
   },
   "file_extension": ".py",
   "mimetype": "text/x-python",
   "name": "python",
   "nbconvert_exporter": "python",
   "pygments_lexer": "ipython3",
   "version": "3.13.1"
  }
 },
 "nbformat": 4,
 "nbformat_minor": 5
}
