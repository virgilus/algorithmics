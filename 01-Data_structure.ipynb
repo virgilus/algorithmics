{
 "cells": [
  {
   "cell_type": "markdown",
   "id": "0b8a0ed9-75e8-4ab4-9a6e-f4714a65a3c4",
   "metadata": {},
   "source": [
    "# Data Structure\n",
    "\n",
    "## Primitive Data Structures\n",
    "\n",
    "💡 Data can be stored, processed or retrieved on various different ways. Both basic and advanced types of data structures are employed in nearly every program or software system developed. Therefore, having a strong understanding of data structures is crucial to better understand how can with deal with data and computers.\n",
    "\n",
    "🎯 Let's see how they work under the hood!\n",
    "\n",
    "<img src=\"files/data_structure.webp\" source=\"https://medium.com/swlh/data-structures-the-basics-dc356cb97111\"></img>"
   ]
  },
  {
   "cell_type": "code",
   "execution_count": null,
   "id": "7d280acd-e498-4f5e-99bb-92a29de52f5c",
   "metadata": {},
   "outputs": [],
   "source": [
    "import pandas as pd\n",
    "import numpy as np"
   ]
  },
  {
   "cell_type": "markdown",
   "id": "6ad8d8b7-adb3-4d5d-a3fe-2a753059b812",
   "metadata": {},
   "source": [
    "### Integer\n",
    "\n",
    "An integer is a whole number that can be positive, negative, or zero and does not have any decimal points.\n",
    "\n",
    "### How is an Integer Stored in the Binary System?\n",
    "\n",
    "In the binary system, integers are represented using a sequence of bits (0s and 1s). The binary system is base-2, meaning each position in the sequence represents a power of 2. For example:\n",
    "\n",
    "- The binary number `1011` represents the decimal number `11` because:\n",
    "- $1 \\times 2^3 + 0 \\times 2^2 + 1 \\times 2^1 + 1 \\times 2^0$\n",
    "- $1 \\times 8 + 0 \\times 4 + 1 \\times 2 + 1 \\times 1 = 8 + 0 + 2 + 1 = 11$\n",
    "\n",
    "### Signed and unsigned integer\n",
    "\n",
    "In computer science, integers can be represented as either signed or unsigned. The distinction between signed and unsigned integers lies in how the bits are interpreted to represent positive and negative values.\n",
    "\n",
    "#### Unsigned Integer\n",
    "\n",
    "An unsigned integer can only represent non-negative values (zero and positive values). An octet (8-bit) ranges from 0 to 255 (so 256 different values).\n",
    "\n",
    "#### Example:\n",
    "\n",
    "For an 8-bit unsigned integer:"
   ]
  },
  {
   "cell_type": "code",
   "execution_count": null,
   "id": "962d04ce-22f3-4cc6-821f-18c2a3ef9713",
   "metadata": {
    "tags": []
   },
   "outputs": [],
   "source": [
    "np.uint8(0b000000000)"
   ]
  },
  {
   "cell_type": "code",
   "execution_count": null,
   "id": "d96b0600-00b6-4425-998f-bb747555b803",
   "metadata": {
    "tags": []
   },
   "outputs": [],
   "source": [
    "np.uint8(0b11111111)"
   ]
  },
  {
   "cell_type": "markdown",
   "id": "6952f548-1d80-46ba-874e-5c06e053de0e",
   "metadata": {},
   "source": [
    "#### Signed Integer\n",
    "\n",
    "A signed integer can represent both positive and negative values, including zero. The most significant bit (MSb) is used to indicate the sign of the number. It's usually the leftmost (index 0) bit.\n",
    "\n",
    "- If the MSb is `0`, the number is positive.\n",
    "- If the MSb is `1`, the number is negative.\n",
    "\n",
    "(MSB refers also to Most Significant \"Byte\", and a \"Byte\" is, most of the time equal to an octet, but... not always!).\n",
    "\n",
    "In that case an octet can range from -128 to 127. So 256 different values.\n",
    "\n",
    "#### \"Naive\" Signed Notation (not used)\n",
    "\n",
    "A \"naive\" notation could say that whenever the first digit is set to 1, then the number is negative.\n",
    "In that case the number :\n",
    "\n",
    "- `0b10000001` would be equal to -1.\n",
    "- And `0b10000010` would be -2.\n",
    "\n",
    "But the naive notation has two drawbacks:\n",
    "\n",
    "- First, there's two representations of the number 0: `0b00000000` and `0b10000000`.\n",
    "- Second, the addition doesn't work anymore with the common rules.\n",
    "\n",
    "| Unsigned Decimal | Naive Signed Notation    | Decimal |\n",
    "|------------------|--------------------------|---------|\n",
    "| 3                |   00000011               | 3       |\n",
    "| + 132            | + 10000100               | + -4    |\n",
    "| = 135            | = 10000111               | **= -1 BUT → -7 in binary !!!** |\n",
    "\n",
    "#### Standard Signed notation (Two's complement)\n",
    "\n",
    "Two's complement is the most common method of representing signed (positive, negative, and zero) integers on computers. It consists in inverting (or flipping) all bits – changing every 0 to 1, and every 1 to 0 (which is like using a NOT bitwise operator).\n",
    "\n",
    "\n",
    "That's why signed integers are typically represented using two's complement notation, which allows for a straightforward way to perform arithmetic operations.\n",
    "\n",
    "| Unsigned Decimal | Standard Signed Notation   | Decimal |\n",
    "|------------------|----------------------------|---------|\n",
    "| 3                | 00000011                   | 3       |\n",
    "| + 132            | + 11111100                 | + -4    |\n",
    "| = 135            | = 11111111                 | **= -1 for both decimal and binary** |"
   ]
  },
  {
   "cell_type": "code",
   "execution_count": null,
   "id": "0e813b4b-c473-4310-8b5f-286a6b493eea",
   "metadata": {
    "tags": []
   },
   "outputs": [],
   "source": [
    "np.array(0b10000000).astype(np.int8)"
   ]
  },
  {
   "cell_type": "code",
   "execution_count": null,
   "id": "bbb63fed-98e2-4e4b-8c77-5fab97ad33e6",
   "metadata": {
    "tags": []
   },
   "outputs": [],
   "source": [
    "np.array(0b0000000).astype(np.int8)"
   ]
  },
  {
   "cell_type": "code",
   "execution_count": null,
   "id": "6438a3c4-b806-4918-b69d-3af8756d44a3",
   "metadata": {
    "tags": []
   },
   "outputs": [],
   "source": [
    "np.array(0b11111111).astype(np.int8)"
   ]
  },
  {
   "cell_type": "code",
   "execution_count": null,
   "id": "1f6fd534-49b8-4aa6-849e-55e853aa3969",
   "metadata": {
    "tags": []
   },
   "outputs": [],
   "source": [
    "np.array(0b01111111).astype(np.int8)"
   ]
  },
  {
   "cell_type": "markdown",
   "id": "804f0c87-2b2a-430b-9913-18e889410e17",
   "metadata": {},
   "source": [
    "### Comparison between sign and unsigned integers\n",
    "\n",
    "| Binary Representation   | Signed Integer | Unsigned Integer |\n",
    "|-------------------------|----------------|------------------|\n",
    "| `0b00000000`            | 0              | 0                |\n",
    "| `0b00000001`            | 1              | 1                |\n",
    "| `0b01111111`            | 127            | 127              |\n",
    "| `0b10000000`            | -128           | 128              |\n",
    "| `0b11111111`            | -1             | 255              |\n",
    "\n",
    "#### Overflow example\n",
    "\n",
    "If you add two 8 bit binary together, it may result unexpected outputs."
   ]
  },
  {
   "cell_type": "code",
   "execution_count": null,
   "id": "ba6c3606-4518-46ea-821c-3740e24bf70a",
   "metadata": {
    "tags": []
   },
   "outputs": [],
   "source": [
    "np.int8(65) + np.int8(62)"
   ]
  },
  {
   "cell_type": "code",
   "execution_count": null,
   "id": "bea6e880-2d04-4422-833c-17e88c22b6ef",
   "metadata": {
    "tags": []
   },
   "outputs": [],
   "source": [
    "np.int8(65) + np.int8(63)"
   ]
  },
  {
   "cell_type": "markdown",
   "id": "adec81af",
   "metadata": {},
   "source": [
    "Why? Because:\n",
    "\n",
    "```python\n",
    "  0b01000001 # (65 in decimal)\n",
    "+ 0b00111111 # (63 in decimal)\n",
    "= 0b10000000 # (-128 in decimal)\n",
    "```"
   ]
  },
  {
   "cell_type": "markdown",
   "id": "8ee46d3f-c24e-4388-8015-9521c01b8f18",
   "metadata": {},
   "source": [
    "Same with unsigned integers."
   ]
  },
  {
   "cell_type": "code",
   "execution_count": null,
   "id": "fc00f99f-6f0a-4f24-b97b-8a14ee47eb7c",
   "metadata": {
    "tags": []
   },
   "outputs": [],
   "source": [
    "np.uint8(250) + np.uint8(250)"
   ]
  },
  {
   "cell_type": "markdown",
   "id": "2010fd39",
   "metadata": {},
   "source": [
    "```python\n",
    "  0b11111010 # (250 in decimal)\n",
    "+ 0b11111010 # (250 in decimal)\n",
    "= 0b111110100 # a 9 bit number! Impossible!\n",
    "= 0b11110100 # So the first bit is discarded, created the number 244 in decimal\n",
    "``` "
   ]
  },
  {
   "cell_type": "markdown",
   "id": "409dbe51-b682-44a8-a4c2-24cfca44bc47",
   "metadata": {},
   "source": [
    "### 32 bits vs 64 bits\n",
    "\n",
    "In Data Science, most technologies use 32 bits or 64 bits signed integer.\n",
    "\n",
    "| Type        | Bits | Min Value                  | Max Value                  |\n",
    "|-------------|------|----------------------------|----------------------------|\n",
    "| Signed      | 32   | -2,147,483,648             | 2,147,483,647              |\n",
    "| Unsigned    | 32   | 0                          | 4,294,967,295              |\n",
    "| Signed      | 64   | -9,223,372,036,854,775,808 | 9,223,372,036,854,775,807  |\n",
    "| Unsigned    | 64   | 0                          | 18,446,744,073,709,551,615 |\n"
   ]
  },
  {
   "cell_type": "markdown",
   "id": "2e5da49e-3bce-4d0b-8d18-f0cc0bf30bb3",
   "metadata": {},
   "source": [
    "### Float numbers\n",
    "\n",
    "Python manages float numbers using the [IEEE754](https://en.wikipedia.org/wiki/IEEE_754) standard for floating-point arithmetic.\n",
    "\n",
    "### IEEE 754 Standard\n",
    "\n",
    "The IEEE 754 standard specifies the format for floating-point numbers, which includes:\n",
    "\n",
    "1. **Sign Bit:** A single bit that indicates the sign of the number (0 for positive, 1 for negative).\n",
    "2. **Exponent:** A field that represents the exponent of the number.\n",
    "3. **Mantissa (or Significand or Coefficient):** A field that represents the significant digits of the number.\n",
    "\n",
    "$ \\text{value} = \\text{sign} \\times \\text{mantissa} \\times 2^{(\\text{exponent} - \\text{bias})}$\n",
    "\n",
    "**Example :** $+1.25 \\times 2^{-3}$\n",
    "\n",
    "Here :\n",
    "- **the sign** is positive.\n",
    "- **the mantissa** is $1.25$.\n",
    "- **the base** is $2$ (binary).\n",
    "- **the exponent** is $-3$.\n",
    "\n",
    "\n",
    "\n",
    "### Float Representation in Python\n",
    "\n",
    "Default float format in Python is the ```float64``` format known as **double-precision** (64-bit). Float32 is called **single-precision**.\n",
    "\n",
    "### Binary Encoding of Float Numbers\n",
    "\n",
    "For a **64-bit floating-point number (double precision)**, the binary encoding is as follows:\n",
    "\n",
    "1. **Sign Bit:** 1 bit\n",
    "2. **Exponent:** 11 bits\n",
    "3. **Mantissa** (fraction) **:** 52 bits\n",
    "\n",
    "And for a **32-bit floating-point number (single precision)**, the binary encoding is as follows:\n",
    "\n",
    "1. **Sign Bit:** 1 bit\n",
    "2. **Exponent:** 8 bits\n",
    "3. **Mantissa** (fraction) **:** 23 bits\n",
    "\n",
    "\n",
    "\n",
    "### Example with a 32 bits float number\n",
    "\n",
    "<img src='files/float32_binary_example.png'/>\n",
    "\n",
    "### How is this computed ?\n",
    "\n",
    "$ \\text{value} = \\text{sign} \\times \\text{mantissa} \\times 2^{(\\text{exponent} - \\text{bias})}$\n",
    "\n",
    "(with $ \\text{sign} = \\pm 1$ and $ \\text{bias} = 2^{e-1} - 1$)\n",
    "\n",
    "#### The Sign Bit\n",
    "\n",
    "If it's \"1\", it's a negative number. Otherwise, it's a positive number. In this example the number is positive.\n",
    "\n",
    "#### The Exponent\n",
    "\n",
    "For a ```float32``` it's an octet that ranges from 0 to 255. In the example the exponent is $0b01111100$ so **124** in decimal. But, we're going to apply an exponent biais.\n",
    "\n",
    "#### Exponent Bias\n",
    "\n",
    "The exponent can be positive or negative. However, the usual representation of signed numbers (two's complement) would make the comparison between floating-point numbers a bit more difficult. To address this issue, the exponent is \"biased\" to store it as an unsigned number.\n",
    "\n",
    "This bias is $2^{e-1} - 1$ (where $e$ represents the number of bits of the exponent); it is therefore a constant value once the number of bits $e$ is fixed (**127** for a 32 bits float and **1023** for a 64 bits float).\n",
    "\n",
    "[source](https://fr.wikipedia.org/wiki/IEEE_754)\n",
    "\n",
    "#### The Mantissa\n",
    "\n",
    "The mantissa (also known as the significand) in the IEEE 754 floating-point representation is the part of the number that represents the significant digits.\n",
    "\n",
    "\n",
    "| Binary Bit Position | Bit Value (2^n)  |   Decimal Contribution   |\n",
    "|---------------------|------------------|--------------------------|\n",
    "| 1                   | $2^{-1}$         | 0.5                      |\n",
    "| 2                   | $2^{-2}$         | 0.25                     |\n",
    "| 3                   | $2^{-3}$         | 0.125                    |\n",
    "| 4                   | $2^{-4}$         | 0.0625                   |\n",
    "| 5                   | $2^{-5}$         | 0.03125                  |\n",
    "| 6                   | $2^{-6}$         | 0.015625                 |\n",
    "| 7                   | $2^{-7}$         | 0.0078125                |\n",
    "| 8                   | $2^{-8}$         | 0.00390625               |\n",
    "| 9                   | $2^{-9}$         | 0.001953125              |\n",
    "| 10                  | $2^{-10}$        | 0.0009765625             |\n",
    "| 11                  | $2^{-11}$        | 0.00048828125            |\n",
    "| 12                  | $2^{-12}$        | 0.000244140625           |\n",
    "| 13                  | $2^{-13}$        | 0.0001220703125          |\n",
    "| 14                  | $2^{-14}$        | 0.00006103515625         |\n",
    "| 15                  | $2^{-15}$        | 0.000030517578125        |\n",
    "| 16                  | $2^{-16}$        | 0.0000152587890625       |\n",
    "| 17                  | $2^{-17}$        | 0.00000762939453125      |\n",
    "| 18                  | $2^{-18}$        | 0.000003814697265625     |\n",
    "| 19                  | $2^{-19}$        | 0.0000019073486328125    |\n",
    "| 20                  | $2^{-20}$        | 0.00000095367431640625   |\n",
    "| 21                  | $2^{-21}$        | 0.000000476837158203125  |\n",
    "| 22                  | $2^{-22}$        | 0.0000002384185791015625 |\n",
    "| 23                  | $2^{-23}$        | 0.00000011920928955078125|\n",
    "   \n",
    "**Total Decimal Value:** 0.9999997615728378\n",
    "\n",
    "Example : 1010000000000000000000 = $2^{-1} + 2^{-3}$) = 0.625\n",
    "\n",
    "##### Normalized and denormalized Mantissa\n",
    "\n",
    "Once we've calculated the 23 bits (for a float32), we need to know is this number is normalized or denormalized. Denormalized numbers are used to better describe very small numbers.\n",
    "\n",
    "If the exposant is different from zero (or different from $2^{e-1}$), the mantissa is said to be \"normalized\" meaning there's an implied \"1\" before the mantissa :\n",
    "\n",
    "- Ex: the mantissa is **01000000000000000000000** (with an implied leading 1) it means so 1.01 in binary, which is 1.25 in decimal.\n",
    "\n",
    "If the exposant is equal to zero (or different from $2^{e-1}$), the mantissa is said to be \"denormalized\" meaning there's no implied \"1\" before the mantissa :\n",
    "\n",
    "- Ex: If the mantissa is **01000000000000000000000** (with no implied leading 1) it means so 0.01 in binary, which is 0.25 in decimal."
   ]
  },
  {
   "cell_type": "markdown",
   "id": "f0d014aa-507a-41aa-9a60-5722bd406fca",
   "metadata": {},
   "source": [
    "#### Conclusion about Float\n",
    "\n",
    "If we take a look at the same float number than before:\n",
    "\n",
    "<img src='files/float32_binary_example.png'/>\n",
    "\n",
    "$ \\text{value} = \\text{sign} \\times \\text{mantissa} \\times 2^{(\\text{exponent} - \\text{bias})}$\n",
    "\n",
    "- Here the sign is zero, so it's a positive number.\n",
    "- The exponent is $0b01111100$, so 124.\n",
    "- The biais is 127 because it's a 32 bits float.\n",
    "- The mantissa is equal to $0b01000000000000000000000$. As the exponent is not equal to 0 or $2^{e-1}$, it's a normalized number and the first \"1\" is implied, meaning that the mantissa is equal to $1.01$ in binary so $1.25$ in decimal."
   ]
  },
  {
   "cell_type": "code",
   "execution_count": null,
   "id": "13fdb97d-ead2-4ddb-afd8-277cbe1010b3",
   "metadata": {
    "tags": []
   },
   "outputs": [],
   "source": [
    "# Let's make sure we did the maths right using the decimal notation!\n",
    "1 * 1.25 * 2**(124 - 127) # 1.25 * 2**-3"
   ]
  },
  {
   "cell_type": "code",
   "execution_count": null,
   "id": "f8e0e3c2-fd36-49bd-95f3-698d13d93d85",
   "metadata": {
    "tags": []
   },
   "outputs": [],
   "source": [
    "# Let's make sure we did the maths right using the binary notation!\n",
    "import numpy as np\n",
    "\n",
    "binary_string = '00111110001000000000000000000000'\n",
    "\n",
    "def binary_to_string(binary_string):\n",
    "    # Convert the binary string to a bytes object\n",
    "    bytes_list = [int(binary_string[i:i+8], 2) for i in range(0, 32, 8)] # 32 because float 32 bits, 8 because octet\n",
    "    bytes_object = bytes(bytes_list)\n",
    "\n",
    "    # Interpret the bytes object as a float32 in big-endian order ('>f4')\n",
    "    return np.frombuffer(bytes_object, dtype='>f4')[0]\n",
    "\n",
    "binary_to_string(binary_string)"
   ]
  },
  {
   "cell_type": "markdown",
   "id": "34a14ed6-d128-4887-8e04-17f334bfa0a4",
   "metadata": {},
   "source": [
    "### Float Exceptions\n",
    "\n",
    "The IEEE 754 norm allows us to also have a representation for the following numbers (including the NaN -> Not a Number).\n",
    "\n",
    "\n",
    "#### IEEE 754 Floating-Point Representation\n",
    "\n",
    "| Type                  | Biased Exponent | Mantissa       |\n",
    "|-----------------------|-----------------|----------------|\n",
    "| Zeros                 | 0               | 0              |\n",
    "| Denormalized Numbers  | 0               | Non-zero       |\n",
    "| Normalized Numbers    | 1 to \\(2^e - 2\\)| Any            |\n",
    "| Infinities            | \\(2^e - 1\\)     | 0              |\n",
    "| NaNs                  | \\(2^e - 1\\)     | Non-zero       |\n",
    "\n",
    "#### Exact Representations (without the Sign Bit)\n",
    "\n",
    "\n",
    "| Type                                      | Exponent       | Mantissa                | Approximate Value       | Precision / Error       |\n",
    "|-------------------------------------------|----------------|-------------------------|--------------------------|--------------------------|\n",
    "| Zero                                     | 0000 0000      | 000 0000 0000 0000 0000 0000 | 0.0                      |                          |\n",
    "| Smallest Denormalized Number              | 0000 0000      | 000 0000 0000 0000 0000 0001 | 1.4 × 10⁻⁴⁵             | 1.4 × 10⁻⁴⁵             |\n",
    "| Next Denormalized Number                  | 0000 0000      | 000 0000 0000 0000 0000 0010 | 2.8 × 10⁻⁴⁵             | 1.4 × 10⁻⁴⁵             |\n",
    "| Next Denormalized Number                  | 0000 0000      | 000 0000 0000 0000 0000 0011 | 4.2 × 10⁻⁴⁵             | 1.4 × 10⁻⁴⁵             |\n",
    "| Another Denormalized Number               | 0000 0000      | 100 0000 0000 0000 0000 0000 | 5.9 × 10⁻³⁹             |                          |\n",
    "| Largest Denormalized Number              | 0000 0000      | 111 1111 1111 1111 1111 1111 | 1.175 494 21 × 10⁻³⁸    |                          |\n",
    "| Smallest Normalized Number               | 0000 0001      | 000 0000 0000 0000 0000 0000 | 1.175 494 35 × 10⁻³⁸    | 1.4 × 10⁻⁴⁵             |\n",
    "| Next Normalized Number                   | 0000 0001      | 000 0000 0000 0000 0000 0001 | 1.175 494 49 × 10⁻³⁸    | 1.4 × 10⁻⁴⁵             |\n",
    "| Almost Double                            | 0000 0001      | 111 1111 1111 1111 1111 1111 | 2.350 988 56 × 10⁻³⁸    | 1.4 × 10⁻⁴⁵             |\n",
    "| Next Normalized Number                   | 0000 0010      | 000 0000 0000 0000 0000 0000 | 2.350 988 70 × 10⁻³⁸    | 1.4 × 10⁻⁴⁵             |\n",
    "| Next Normalized Number                   | 0000 0010      | 000 0000 0000 0000 0000 0001 | 2.350 988 98 × 10⁻³⁸    | 2.8 × 10⁻⁴⁵             |\n",
    "| Almost 1                                 | 0111 1110      | 111 1111 1111 1111 1111 1111 | 0.999 999 94             | 0.6 × 10⁻⁷ = 2⁻²⁴       |\n",
    "| 1                                        | 0111 1111      | 000 0000 0000 0000 0000 0000 | 1.000 000 00             |                          |\n",
    "| Next Number after 1                      | 0111 1111      | 000 0000 0000 0000 0000 0001 | 1.000 000 12             | 1.2 × 10⁻⁷ = 2⁻²³       |\n",
    "| Almost Largest Number                    | 1111 1110      | 111 1111 1111 1111 1111 1110 | 3.402 823 26 × 10³⁸     |                          |\n",
    "| Largest Normalized Number                | 1111 1110      | 111 1111 1111 1111 1111 1111 | 3.402 823 46 × 10³⁸     | 2 × 10³¹                 |\n",
    "| Infinity                                 | 1111 1111      | 000 0000 0000 0000 0000 0000 | Infinity                 |                          |\n",
    "| First Value (Denormalized) of NaN (signaling) | 1111 1111      | 000 0000 0000 0000 0000 0001 | NaN                      |                          |\n",
    "| Normalized NaN (signaling)              | 1111 1111      | 010 0000 0000 0000 0000 0000 | NaN                      |                          |\n",
    "| Last Value (Denormalized) of NaN (signaling) | 1111 1111      | 011 1111 1111 1111 1111 1111 | NaN                      |                          |\n",
    "| First Value (Denormalized) of NaN (quiet) | 1111 1111      | 100 0000 0000 0000 0000 0000 | NaN                      |                          |\n",
    "| Last Value (Denormalized) of NaN (quiet) | 1111 1111      | 111 1111 1111 1111 1111 1111 | NaN                      |                          |\n",
    "\n",
    "#### A Few Things to consider\n",
    "\n",
    "- There are two zeros: +0 and −0 (positive zero and negative zero), depending on the value of the sign bit;\n",
    "- There are two infinities: +∞ and −∞, depending on the value of the sign bit;\n",
    "- Zeros and denormalized numbers have a biased exponent of -127 + 127 = 0; all bits of the \"exponent\" field are therefore 0;\n",
    "- NaNs and infinities have a biased exponent of 128 + 127 = 255; all bits of the \"exponent\" field are therefore 1;\n",
    "- NaNs can have a sign and a significand, but these have no meaning as real values (except for signaling, which can trigger an exception, and error correction)."
   ]
  },
  {
   "cell_type": "code",
   "execution_count": null,
   "id": "4660e4f6-ebf6-477c-84de-3e0e51676c0b",
   "metadata": {
    "tags": []
   },
   "outputs": [],
   "source": [
    "# That's why in Python you can use infinity\n",
    "float('inf')"
   ]
  },
  {
   "cell_type": "code",
   "execution_count": null,
   "id": "52aad079-1d80-4616-9777-cde7e293c88d",
   "metadata": {
    "tags": []
   },
   "outputs": [],
   "source": [
    "# Or minus infinity\n",
    "float('-inf')"
   ]
  },
  {
   "cell_type": "code",
   "execution_count": null,
   "id": "3a53945d-a9b2-435d-84d4-ca5a1976cf80",
   "metadata": {
    "tags": []
   },
   "outputs": [],
   "source": [
    "# Positive zero\n",
    "float(0.0)"
   ]
  },
  {
   "cell_type": "code",
   "execution_count": null,
   "id": "e5088963-d35a-445f-871a-6994f7869f91",
   "metadata": {
    "tags": []
   },
   "outputs": [],
   "source": [
    "# Negative zero\n",
    "float(-0.0)"
   ]
  },
  {
   "cell_type": "code",
   "execution_count": null,
   "id": "a900b3a8-d040-4237-931a-4be393e34469",
   "metadata": {
    "tags": []
   },
   "outputs": [],
   "source": [
    "# Positive nan\n",
    "float('nan')"
   ]
  },
  {
   "cell_type": "code",
   "execution_count": null,
   "id": "201d7b54-5fc5-42ea-97f9-95fd325b1517",
   "metadata": {
    "tags": []
   },
   "outputs": [],
   "source": [
    "# Negative nan\n",
    "float('-nan')"
   ]
  },
  {
   "cell_type": "code",
   "execution_count": null,
   "id": "eceeb0a8-8e34-42cd-90de-eeb0d06f4d2f",
   "metadata": {
    "tags": []
   },
   "outputs": [],
   "source": [
    "# Let's make sure everything is right!\n",
    "import struct\n",
    "\n",
    "def float_to_binary(f):\n",
    "    # Pack the float number into binary format\n",
    "    packed_data = struct.pack('>f', f)\n",
    "    # Unpack the binary data into an integer representation\n",
    "    int_representation = struct.unpack('>I', packed_data)[0]\n",
    "    # Convert the integer representation to a binary string\n",
    "    binary_representation = bin(int_representation)[2:].zfill(32)\n",
    "    return binary_representation\n",
    "\n",
    "print(f\"Binary representation of float('inf'):   {float_to_binary(float('inf'))}\")\n",
    "print(f\"Binary representation of float('-inf'):  {float_to_binary(float('-inf'))}\")\n",
    "print(f\"Binary representation of float('0.0'):   {float_to_binary(float('0.0'))}\")\n",
    "print(f\"Binary representation of float('-0.0'):  {float_to_binary(float('-0.0'))}\")\n",
    "print(f\"Binary representation of float('nan'):   {float_to_binary(float('nan'))}\")\n",
    "print(f\"Binary representation of float('-nan'):  {float_to_binary(float('-nan'))}\")"
   ]
  },
  {
   "cell_type": "markdown",
   "id": "353b1d2e-4523-4ca3-88d0-236ac5327eb0",
   "metadata": {
    "tags": []
   },
   "source": [
    "## Character (string)"
   ]
  },
  {
   "cell_type": "markdown",
   "id": "f1175c30-4ccc-45b2-bd47-3918bbf385f5",
   "metadata": {},
   "source": [
    "### Character Encodings\n",
    "\n",
    "For a computer each character has a value. The process of attributing characters to binary/ hexadecimal values is called \"character encoding\".\n",
    "\n",
    "#### The original ASCII\n",
    "\n",
    "The first standard to stand out is the ASCII (The American Standard Code for Information Interchange), in 1963 , which is a table that ranges from zero to 127 (7 bits).\n",
    "\n",
    "#### Extended ASCII\n",
    "\n",
    "When 8 bits became the standard, the Extended ASCII was created in 1981 using 8 bits and thus allowing for 128 new characters.\n",
    "\n",
    "\n",
    "#### The original ASCII Table (from 0 to 127, left) and the Extended ASCII table (from 128 to 255, right).\n",
    "\n",
    "\n",
    "| Decimal | Hexadecimal | Character | Description                  | Decimal | Hexadecimal | Character | Description                  |\n",
    "|---------|-------------|-----------|------------------------------|---------|-------------|-----------|------------------------------|\n",
    "| 0       | 0x00        | NUL       | Null character               | 128     | 0x80        | Ç         | C cedilla                    |\n",
    "| 1       | 0x01        | SOH       | Start of Heading             | 129     | 0x81        | ü         | u with diaeresis             |\n",
    "| 2       | 0x02        | STX       | Start of Text                | 130     | 0x82        | é         | e with acute accent          |\n",
    "| 3       | 0x03        | ETX       | End of Text                  | 131     | 0x83        | â         | a with circumflex            |\n",
    "| 4       | 0x04        | EOT       | End of Transmission          | 132     | 0x84        | ä         | a with diaeresis             |\n",
    "| 5       | 0x05        | ENQ       | Enquiry                      | 133     | 0x85        | à         | a with grave accent          |\n",
    "| 6       | 0x06        | ACK       | Acknowledgment               | 134     | 0x86        | å         | a with ring above            |\n",
    "| 7       | 0x07        | BEL       | Bell                         | 135     | 0x87        | ç         | c with cedilla               |\n",
    "| 8       | 0x08        | BS        | Backspace                    | 136     | 0x88        | ê         | e with circumflex            |\n",
    "| 9       | 0x09        | HT        | Horizontal Tab               | 137     | 0x89        | ë         | e with diaeresis             |\n",
    "| 10      | 0x0A        | LF        | Line Feed                    | 138     | 0x8A        | è         | e with grave accent          |\n",
    "| 11      | 0x0B        | VT        | Vertical Tab                 | 139     | 0x8B        | ï         | i with diaeresis             |\n",
    "| 12      | 0x0C        | FF        | Form Feed                    | 140     | 0x8C        | î         | i with circumflex            |\n",
    "| 13      | 0x0D        | CR        | Carriage Return              | 141     | 0x8D        | ì         | i with grave accent          |\n",
    "| 14      | 0x0E        | SO        | Shift Out                    | 142     | 0x8E        | Ä         | A with diaeresis             |\n",
    "| 15      | 0x0F        | SI        | Shift In                     | 143     | 0x8F        | Å         | A with ring above            |\n",
    "| 16      | 0x10        | DLE       | Data Link Escape             | 144     | 0x90        | É         | E with acute accent          |\n",
    "| 17      | 0x11        | DC1       | Device Control 1            | 145     | 0x91        | æ         | ae ligature                  |\n",
    "| 18      | 0x12        | DC2       | Device Control 2            | 146     | 0x92        | Æ         | AE ligature                  |\n",
    "| 19      | 0x13        | DC3       | Device Control 3            | 147     | 0x93        | ô         | o with circumflex            |\n",
    "| 20      | 0x14        | DC4       | Device Control 4            | 148     | 0x94        | ö         | o with diaeresis             |\n",
    "| 21      | 0x15        | NAK       | Negative Acknowledgment      | 149     | 0x95        | ò         | o with grave accent          |\n",
    "| 22      | 0x16        | SYN       | Synchronous Idle             | 150     | 0x96        | û         | u with circumflex            |\n",
    "| 23      | 0x17        | ETB       | End of Transmission Block    | 151     | 0x97        | ù         | u with grave accent          |\n",
    "| 24      | 0x18        | CAN       | Cancel                       | 152     | 0x98        | ÿ         | y with diaeresis             |\n",
    "| 25      | 0x19        | EM        | End of Medium                | 153     | 0x99        | Ö         | O with diaeresis             |\n",
    "| 26      | 0x1A        | SUB       | Substitute                   | 154     | 0x9A        | Ü         | U with diaeresis             |\n",
    "| 27      | 0x1B        | ESC       | Escape                       | 155     | 0x9B        | ø         | o with slash                 |\n",
    "| 28      | 0x1C        | FS        | File Separator               | 156     | 0x9C        | £         | Pound sign                   |\n",
    "| 29      | 0x1D        | GS        | Group Separator              | 157     | 0x9D        | Ø         | O with slash                 |\n",
    "| 30      | 0x1E        | RS        | Record Separator             | 158     | 0x9E        | ×         | Multiplication sign         |\n",
    "| 31      | 0x1F        | US        | Unit Separator               | 159     | 0x9F        | ƒ         | Florin                       |\n",
    "| 32      | 0x20        | SP        | Space                        | 160     | 0xA0        | á         | a with acute accent          |\n",
    "| 33      | 0x21        | !         | Exclamation mark             | 161     | 0xA1        | í         | i with acute accent          |\n",
    "| 34      | 0x22        | \"         | Double quote                | 162     | 0xA2        | ó         | o with acute accent          |\n",
    "| 35      | 0x23        | #         | Number sign                  | 163     | 0xA3        | ú         | u with acute accent          |\n",
    "| 36      | 0x24        | $         | Dollar sign                  | 164     | 0xA4        | ñ         | n with tilde                 |\n",
    "| 37      | 0x25        | %         | Percent sign                 | 165     | 0xA5        | Ñ         | N with tilde                 |\n",
    "| 38      | 0x26        | &         | Ampersand                    | 166     | 0xA6        | ª         | Feminine ordinal indicator  |\n",
    "| 39      | 0x27        | '         | Single quote                | 167     | 0xA7        | º         | Masculine ordinal indicator |\n",
    "| 40      | 0x28        | (         | Left parenthesis            | 168     | 0xA8        | ¿         | Inverted question mark       |\n",
    "| 41      | 0x29        | )         | Right parenthesis           | 169     | 0xA9        | ®         | Registered trademark         |\n",
    "| 42      | 0x2A        | *         | Asterisk                     | 170     | 0xAA        | ¬         | Not sign                     |\n",
    "| 43      | 0x2B        | +         | Plus sign                    | 171     | 0xAB        | ½         | One half                     |\n",
    "| 44      | 0x2C        | ,         | Comma                        | 172     | 0xAC        | ¼         | One quarter                  |\n",
    "| 45      | 0x2D        | -         | Hyphen                       | 173     | 0xAD        | ¡         | Inverted exclamation mark    |\n",
    "| 46      | 0x2E        | .         | Period                       | 174     | 0xAE        | «         | Left-pointing double angle quotation mark |\n",
    "| 47      | 0x2F        | /         | Slash                       | 175     | 0xAF        | »         | Right-pointing double angle quotation mark |\n",
    "| 48      | 0x30        | 0         | Digit 0                      | 176     | 0xB0        | ░         | Light shade                  |\n",
    "| 49      | 0x31        | 1         | Digit 1                      | 177     | 0xB1        | ▒         | Medium shade                 |\n",
    "| 50      | 0x32        | 2         | Digit 2                      | 178     | 0xB2        | ▓         | Dark shade                   |\n",
    "| 51      | 0x33        | 3         | Digit 3                      | 179     | 0xB3        | │         | Box drawings light vertical  |\n",
    "| 52      | 0x34        | 4         | Digit 4                      | 180     | 0xB4        | ┤         | Box drawings light down and left |\n",
    "| 53      | 0x35        | 5         | Digit 5                      | 181     | 0xB5        | Á         | A with acute accent          |\n",
    "| 54      | 0x36        | 6         | Digit 6                      | 182     | 0xB6        | Â         | A with circumflex            |\n",
    "| 55      | 0x37        | 7         | Digit 7                      | 183     | 0xB7        | Ã         | A with tilde                 |\n",
    "| 56      | 0x38        | 8         | Digit 8                      | 184     | 0xB8        | Ä         | A with diaeresis             |\n",
    "| 57      | 0x39        | 9         | Digit 9                      | 185     | 0xB9        | Å         | A with ring above            |\n",
    "| 58      | 0x3A        | :         | Colon                       | 186     | 0xBA        | Æ         | AE ligature                  |\n",
    "| 59      | 0x3B        | ;         | Semicolon                   | 187     | 0xBB        | Ç         | C with cedilla               |\n",
    "| 60      | 0x3C        | <         | Less than                    | 188     | 0xBC        | Ê         | E with circumflex            |\n",
    "| 61      | 0x3D        | =         | Equals sign                  | 189     | 0xBD        | Ë         | E with diaeresis             |\n",
    "| 62      | 0x3E        | >         | Greater than                 | 190     | 0xBE        | Ì         | I with grave accent          |\n",
    "| 63      | 0x3F        | ?         | Question mark                | 191     | 0xBF        | Í         | I with acute accent          |\n",
    "| 64      | 0x40        | @         | At sign                     | 192     | 0xC0        | Î         | I with circumflex            |\n",
    "| 65      | 0x41        | A         | Uppercase A                  | 193     | 0xC1        | Ï         | I with diaeresis             |\n",
    "| 66      | 0x42        | B         | Uppercase B                  | 194     | 0xC2        | Ð         | Eth                          |\n",
    "| 67      | 0x43        | C         | Uppercase C                  | 195     | 0xC3        | Ñ         | N with tilde                 |\n",
    "| 68      | 0x44        | D         | Uppercase D                  | 196     | 0xC4        | Ò         | O with grave accent          |\n",
    "| 69      | 0x45        | E         | Uppercase E                  | 197     | 0xC5        | Ó         | O with acute accent          |\n",
    "| 70      | 0x46        | F         | Uppercase F                  | 198     | 0xC6        | Ô         | O with circumflex            |\n",
    "| 71      | 0x47        | G         | Uppercase G                  | 199     | 0xC7        | Õ         | O with tilde                 |\n",
    "| 72      | 0x48        | H         | Uppercase H                  | 200     | 0xC8        | Ö         | O with diaeresis             |\n",
    "| 73      | 0x49        | I         | Uppercase I                  | 201     | 0xC9        | ×         | Multiplication sign         |\n",
    "| 74      | 0x4A        | J         | Uppercase J                  | 202     | 0xCA        | Ø         | O with slash                 |\n",
    "| 75      | 0x4B        | K         | Uppercase K                  | 203     | 0xCB        | Ù         | U with grave accent          |\n",
    "| 76      | 0x4C        | L         | Uppercase L                  | 204     | 0xCC        | Ú         | U with acute accent          |\n",
    "| 77      | 0x4D        | M         | Uppercase M                  | 205     | 0xCD        | Û         | U with circumflex            |\n",
    "| 78      | 0x4E        | N         | Uppercase N                  | 206     | 0xCE        | Ü         | U with diaeresis             |\n",
    "| 79      | 0x4F        | O         | Uppercase O                  | 207     | 0xCF        | Ý         | Y with acute accent          |\n",
    "| 80      | 0x50        | P         | Uppercase P                  | 208     | 0xD0        | Þ         | Thorn                        |\n",
    "| 81      | 0x51        | Q         | Uppercase Q                  | 209     | 0xD1        | ß         | Sharp s                      |\n",
    "| 82      | 0x52        | R         | Uppercase R                  | 210     | 0xD2        | á         | a with acute accent          |\n",
    "| 83      | 0x53        | S         | Uppercase S                  | 211     | 0xD3        | â         | a with circumflex            |\n",
    "| 84      | 0x54        | T         | Uppercase T                  | 212     | 0xD4        | ä         | a with diaeresis             |\n",
    "| 85      | 0x55        | U         | Uppercase U                  | 213     | 0xD5        | å         | a with ring above            |\n",
    "| 86      | 0x56        | V         | Uppercase V                  | 214     | 0xD6        | æ         | ae ligature                  |\n",
    "| 87      | 0x57        | W         | Uppercase W                  | 215     | 0xD7        | ç         | c with cedilla               |\n",
    "| 88      | 0x58        | X         | Uppercase X                  | 216     | 0xD8        | è         | e with grave accent          |\n",
    "| 89      | 0x59        | Y         | Uppercase Y                  | 217     | 0xD9        | é         | e with acute accent          |\n",
    "| 90      | 0x5A        | Z         | Uppercase Z                  | 218     | 0xDA        | ê         | e with circumflex            |\n",
    "| 91      | 0x5B        | [         | Left square bracket         | 219     | 0xDB        | ë         | e with diaeresis             |\n",
    "| 92      | 0x5C        | \\         | Backslash                   | 220     | 0xDC        | ì         | i with grave accent          |\n",
    "| 93      | 0x5D        | ]         | Right square bracket        | 221     | 0xDD        | í         | i with acute accent          |\n",
    "| 94      | 0x5E        | ^         | Caret                        | 222     | 0xDE        | î         | i with circumflex            |\n",
    "| 95      | 0x5F        | _         | Underscore                   | 223     | 0xDF        | ï         | i with diaeresis             |\n",
    "| 96      | 0x60        | `         | Grave accent                | 224     | 0xE0        | ð         | eth                          |\n",
    "| 97      | 0x61        | a         | Lowercase a                  | 225     | 0xE1        | ñ         | n with tilde                 |\n",
    "| 98      | 0x62        | b         | Lowercase b                  | 226     | 0xE2        | ò         | o with grave accent          |\n",
    "| 99      | 0x63        | c         | Lowercase c                  | 227     | 0xE3        | ó         | o with acute accent          |\n",
    "| 100     | 0x64        | d         | Lowercase d                  | 228     | 0xE4        | ô         | o with circumflex            |\n",
    "| 101     | 0x65        | e         | Lowercase e                  | 229     | 0xE5        | õ         | o with tilde                 |\n",
    "| 102     | 0x66        | f         | Lowercase f                  | 230     | 0xE6        | ö         | o with diaeresis             |\n",
    "| 103     | 0x67        | g         | Lowercase g                  | 231     | 0xE7        | ÷         | Division sign                |\n",
    "| 104     | 0x68        | h         | Lowercase h                  | 232     | 0xE8        | ø         | o with slash                 |\n",
    "| 105     | 0x69        | i         | Lowercase i                  | 233     | 0xE9        | ù         | u with grave accent          |\n",
    "| 106     | 0x6A        | j         | Lowercase j                  | 234     | 0xEA        | ú         | u with acute accent          |\n",
    "| 107     | 0x6B        | k         | Lowercase k                  | 235     | 0xEB        | û         | u with circumflex            |\n",
    "| 108     | 0x6C        | l         | Lowercase l                  | 236     | 0xEC        | ü         | u with diaeresis             |\n",
    "| 109     | 0x6D        | m         | Lowercase m                  | 237     | 0xED        | ý         | y with acute accent          |\n",
    "| 110     | 0x6E        | n         | Lowercase n                  | 238     | 0xEE        | þ         | thorn                        |\n",
    "| 111     | 0x6F        | o         | Lowercase o                  | 239     | 0xEF        | ÿ         | y with diaeresis             |\n",
    "| 112     | 0x70        | p         | Lowercase p                  | 240     | 0xF0        | Ā         | A with macron                |\n",
    "| 113     | 0x71        | q         | Lowercase q                  | 241     | 0xF1        | ā         | a with macron                |\n",
    "| 114     | 0x72        | r         | Lowercase r                  | 242     | 0xF2        | Ă         | A with breve                 |\n",
    "| 115     | 0x73        | s         | Lowercase s                  | 243     | 0xF3        | ă         | a with breve                 |\n",
    "| 116     | 0x74        | t         | Lowercase t                  | 244     | 0xF4        | Ą         | A with ogonek                |\n",
    "| 117     | 0x75        | u         | Lowercase u                  | 245     | 0xF5        | ą         | a with ogonek                |\n",
    "| 118     | 0x76        | v         | Lowercase v                  | 246     | 0xF6        | Ć         | C with acute                 |\n",
    "| 119     | 0x77        | w         | Lowercase w                  | 247     | 0xF7        | ć         | c with acute                 |\n",
    "| 120     | 0x78        | x         | Lowercase x                  | 248     | 0xF8        | Ĉ         | C with circumflex            |\n",
    "| 121     | 0x79        | y         | Lowercase y                  | 249     | 0xF9        | ĉ         | c with circumflex            |\n",
    "| 122     | 0x7A        | z         | Lowercase z                  | 250     | 0xFA        | Č         | C with caron                 |\n",
    "| 123     | 0x7B        | {         | Left curly brace            | 251     | 0xFB        | č         | c with caron                 |\n",
    "| 124     | 0x7C        | \\|         | Vertical bar                | 252     | 0xFC        | Ď         | D with caron                 |\n",
    "| 125     | 0x7D        | }         | Right curly brace           | 253     | 0xFD        | ď         | d with caron                 |\n",
    "| 126     | 0x7E        | ~         | Tilde                       | 254     | 0xFE        | Ę         | E with ogonek                |\n",
    "| 127     | 0x7F        | DEL       | Delete                      | 255     | 0xFF        | ę         | e with ogonek                |\n"
   ]
  },
  {
   "cell_type": "markdown",
   "id": "e8cf3104-7054-4938-befc-6ea38808fe22",
   "metadata": {},
   "source": [
    "### The Unicode Standard\n",
    "\n",
    "But writing in other languages than the western alphabet was complicated. So in 1991 a new standard was created : the [Unicode Standard](https://www.unicode.org/standard/standard.html). As of Unicode version 16.0 (September 2024), it defines 155,063 characters and 3790 emojis.\n",
    "\n",
    "### The Character Encoding\n",
    "\n",
    "There are different ways to encode Unicode. The most common is UTF-8.\n",
    "\n",
    "#### How does the utf-8 works?\n",
    "\n",
    "The UTF-8 (Unicode Transformation Format – 8-bit) is capable to encode 1,112,064 valid Unicode characters.\n",
    "\n",
    "Basically :\n",
    "- If the character is plain ASCII, then it's the same thing than ASCII.\n",
    "- But if the first digit is a \"1\", then it's not Extended ASCII anymore, it means the following character will be coded on two octets.\n",
    "- If it starts with \"11\", it means coded on three octets.\n",
    "- And if it starts with \"111\", it means on four octets.\n",
    "\n",
    "(The exact explanation [can be found here](https://en.wikipedia.org/wiki/UTF-8#Byte_map) for example.)"
   ]
  },
  {
   "cell_type": "code",
   "execution_count": null,
   "id": "2369ee42-b518-4396-a2cc-9bc16c3ff5eb",
   "metadata": {
    "tags": []
   },
   "outputs": [],
   "source": [
    "unicode_string = \"Aé€𫠜\"\n",
    "\n",
    "for car in unicode_string:\n",
    "    car_encoded = car.encode('utf-8') # default argument is also utf-8\n",
    "    binary_representation = ' '.join(format(byte, '08b') for byte in car_encoded)\n",
    "    print(f\"{car} :{binary_representation}\")"
   ]
  },
  {
   "cell_type": "markdown",
   "id": "af47a9a2",
   "metadata": {},
   "source": [
    "## Boolean data type\n",
    "\n",
    "- Named after the English mathematician George Boole (1815 - 1964)\n",
    "- 0 is False, and 1 is True\n",
    "- It should take only a bit, but as Python object are complex, it takes a little bit more in the memory.\n",
    "- Most comparisons return a Bool.\n"
   ]
  },
  {
   "cell_type": "markdown",
   "id": "8d917786",
   "metadata": {},
   "source": [
    "### Boolean Operations\n",
    "\n",
    "#### With ```and```"
   ]
  },
  {
   "cell_type": "code",
   "execution_count": null,
   "id": "b789d89a",
   "metadata": {},
   "outputs": [],
   "source": [
    "True and True  # True\n",
    "True and False  # False\n",
    "False and True  # False\n",
    "False and False  # False"
   ]
  },
  {
   "cell_type": "markdown",
   "id": "70a9f290",
   "metadata": {},
   "source": [
    "#### With ```or```"
   ]
  },
  {
   "cell_type": "code",
   "execution_count": null,
   "id": "ee136b59",
   "metadata": {},
   "outputs": [],
   "source": [
    "True or True  # True\n",
    "True or False  # True\n",
    "False or True  # True\n",
    "False or False  # False"
   ]
  },
  {
   "cell_type": "markdown",
   "id": "8c56dc6e",
   "metadata": {},
   "source": [
    "#### With `not`"
   ]
  },
  {
   "cell_type": "code",
   "execution_count": null,
   "id": "95630945",
   "metadata": {},
   "outputs": [],
   "source": [
    "not True  # False\n",
    "not False  # True"
   ]
  },
  {
   "cell_type": "markdown",
   "id": "218a83c5",
   "metadata": {},
   "source": [
    "\n",
    "### Boolean Context\n",
    "\n",
    "#### With `int` or `float`\n",
    "\n",
    "- What happens if we convert `int` to`bool`?"
   ]
  },
  {
   "cell_type": "code",
   "execution_count": null,
   "id": "be27fd97",
   "metadata": {},
   "outputs": [],
   "source": [
    "print(bool(0))\n",
    "print(bool(1))\n",
    "print(bool(-1))\n",
    "print(bool(121212))\n",
    "print(bool(-121212))\n",
    "print(bool(0.0001))\n",
    "print(bool(0.0))"
   ]
  },
  {
   "cell_type": "markdown",
   "id": "281a3e35",
   "metadata": {},
   "source": [
    "In Python, many values can be evaluated in a boolean context. This means they can be used in conditions where a boolean value is expected.\n",
    "\n",
    "💡 With `int` or `float`: `0` is considered `False`, and any non-zero number is considered `True`."
   ]
  },
  {
   "cell_type": "code",
   "execution_count": null,
   "id": "97c24d98",
   "metadata": {},
   "outputs": [],
   "source": [
    "if 0: print(\"Zero ? This line will not print\")\n",
    "if 1: print(\"One !\")"
   ]
  },
  {
   "cell_type": "code",
   "execution_count": null,
   "id": "b1de010c",
   "metadata": {},
   "outputs": [],
   "source": [
    "print(bool(\"\"))\n",
    "print(bool(\"Hello\"))"
   ]
  },
  {
   "cell_type": "markdown",
   "id": "d15e778a",
   "metadata": {},
   "source": [
    "\n",
    "💡 With `str`: An empty string `\"\"` is considered `False`, and any non-empty string is considered `True`."
   ]
  },
  {
   "cell_type": "code",
   "execution_count": null,
   "id": "ed88efe0",
   "metadata": {},
   "outputs": [],
   "source": [
    "if \"\": print(' \"\"  ? This line will not print')\n",
    "if \"whatever\": print(\"Working !\")"
   ]
  },
  {
   "cell_type": "markdown",
   "id": "87493c52",
   "metadata": {},
   "source": [
    "#### With `list` and `dict`"
   ]
  },
  {
   "cell_type": "code",
   "execution_count": null,
   "id": "7747e801",
   "metadata": {},
   "outputs": [],
   "source": [
    "print(bool([]))\n",
    "print(bool([1, 2, 3]))\n",
    "print(bool({}))\n",
    "print(bool({'a': 1}))"
   ]
  },
  {
   "cell_type": "code",
   "execution_count": null,
   "id": "2e484179",
   "metadata": {},
   "outputs": [],
   "source": [
    "if []: print(\"Won't print\")\n",
    "if [1]: print(\"Non empty list. Will print\")\n",
    "if {}: print(\"Won't print\")\n",
    "if {'a': 1}: print(\"Non empty dict. Will print\")"
   ]
  },
  {
   "cell_type": "markdown",
   "id": "8de21771",
   "metadata": {},
   "source": [
    "#### With `None`"
   ]
  },
  {
   "cell_type": "code",
   "execution_count": null,
   "id": "2e4962fe",
   "metadata": {},
   "outputs": [],
   "source": [
    "bool(None)"
   ]
  },
  {
   "cell_type": "markdown",
   "id": "deb51408",
   "metadata": {},
   "source": [
    "💡 With **None**: The `None` value is considered `False`.\n"
   ]
  },
  {
   "cell_type": "markdown",
   "id": "f7642497",
   "metadata": {},
   "source": [
    "#### Other uses of `bool`"
   ]
  },
  {
   "cell_type": "markdown",
   "id": "47d7e6cf",
   "metadata": {},
   "source": [
    "1. With **Conditional Statements**:"
   ]
  },
  {
   "cell_type": "code",
   "execution_count": null,
   "id": "ca9f2116",
   "metadata": {},
   "outputs": [],
   "source": [
    "x = 10\n",
    "y = 20\n",
    "\n",
    "print(x < y)\n",
    "print(y < x)"
   ]
  },
  {
   "cell_type": "markdown",
   "id": "a67a6213",
   "metadata": {},
   "source": [
    "\n",
    "2. With a **Loop Control**:"
   ]
  },
  {
   "cell_type": "code",
   "execution_count": null,
   "id": "90592ee0",
   "metadata": {},
   "outputs": [],
   "source": [
    "while True:\n",
    "    print(\"This loop will run indefinitely\")\n",
    "    break  # Let's stop it right away"
   ]
  },
  {
   "cell_type": "markdown",
   "id": "963f3214",
   "metadata": {},
   "source": [
    "\n",
    "3. **Function Return Values**:\n"
   ]
  },
  {
   "cell_type": "code",
   "execution_count": null,
   "id": "69d38054",
   "metadata": {},
   "outputs": [],
   "source": [
    "def is_even(number):\n",
    "    return number % 2 == 0\n",
    "\n",
    "print(is_even(4))  # True\n",
    "print(is_even(7))  # False"
   ]
  },
  {
   "cell_type": "markdown",
   "id": "acfcf2e5",
   "metadata": {},
   "source": [
    "### Subclass of `int`\n",
    "\n",
    "In Python, Booleans are a subclass of `int` (https://docs.python.org/3/c-api/bool.html). So they can be used just as an `int` !"
   ]
  },
  {
   "cell_type": "code",
   "execution_count": null,
   "id": "4126922e",
   "metadata": {},
   "outputs": [],
   "source": [
    "3 + True"
   ]
  },
  {
   "cell_type": "code",
   "execution_count": null,
   "id": "c1ce2ef5",
   "metadata": {},
   "outputs": [],
   "source": [
    "\n",
    "3 + False"
   ]
  },
  {
   "cell_type": "code",
   "execution_count": null,
   "id": "1905cb6b",
   "metadata": {},
   "outputs": [],
   "source": [
    "3 * True"
   ]
  },
  {
   "cell_type": "code",
   "execution_count": null,
   "id": "a8054894",
   "metadata": {},
   "outputs": [],
   "source": [
    "3 * False"
   ]
  },
  {
   "cell_type": "code",
   "execution_count": null,
   "id": "a7585a79",
   "metadata": {},
   "outputs": [],
   "source": [
    "3 * [] # returns an empty list"
   ]
  },
  {
   "cell_type": "code",
   "execution_count": null,
   "id": "51656e15",
   "metadata": {},
   "outputs": [],
   "source": [
    "3 * bool([]) # returns zero"
   ]
  },
  {
   "cell_type": "code",
   "execution_count": null,
   "id": "b609e394",
   "metadata": {},
   "outputs": [],
   "source": [
    "3 * bool([\"whatever\"]) # returns 3"
   ]
  },
  {
   "cell_type": "markdown",
   "id": "245cdafb",
   "metadata": {},
   "source": [
    "## Non Primitive Data Structures"
   ]
  },
  {
   "cell_type": "markdown",
   "id": "5dde9a4c",
   "metadata": {},
   "source": [
    "### Linear Data Structure\n",
    "\n",
    "#### Array\n",
    "\n",
    "Fixed size, contiguous memory, fast access.\n",
    "\n",
    "<img src=\"files/array.webp\" source=\"https://www.geeksforgeeks.org/\">"
   ]
  },
  {
   "cell_type": "markdown",
   "id": "91a080f9",
   "metadata": {},
   "source": [
    "#### Stack\n",
    "LIFO, push/pop operations, useful for function calls and undo mechanisms.\n",
    "\n",
    "<img src=\"files/stack.png\" source=\"https://www.geeksforgeeks.org/\">\n"
   ]
  },
  {
   "cell_type": "markdown",
   "id": "5873d181",
   "metadata": {},
   "source": [
    "#### Queue\n",
    "\n",
    "FIFO, enqueue/dequeue operations, useful for scheduling and buffering.\n",
    "\n",
    "<img src=\"files/queue.png\" source=\"https://www.geeksforgeeks.org/\">\n"
   ]
  },
  {
   "cell_type": "markdown",
   "id": "453d76b6",
   "metadata": {},
   "source": [
    "#### Linked List\n",
    "Dynamic size, non-contiguous memory, each element contains a reference to the next element.\n",
    "\n",
    "<img src=\"files/linked-list.webp\" source=\"https://www.geeksforgeeks.org/\">"
   ]
  },
  {
   "cell_type": "markdown",
   "id": "1cc95972",
   "metadata": {},
   "source": [
    "## Non Linear Data Structures\n",
    "\n",
    "### Tree\n",
    "\n",
    "Hierarchical structure with a root node and child nodes, useful for representing hierarchical data.\n",
    "\n",
    "<img src=\"files/tree.webp\" source=\"https://www.geeksforgeeks.org/\">"
   ]
  },
  {
   "cell_type": "markdown",
   "id": "62f2b978",
   "metadata": {},
   "source": [
    "### Graph\n",
    "\n",
    "Collection of nodes and edges, useful for representing networks and relationships.\n",
    "\n",
    "<img src=\"files/graph.webp\" source=\"https://www.geeksforgeeks.org/\">"
   ]
  },
  {
   "cell_type": "markdown",
   "id": "1d2f07c2",
   "metadata": {},
   "source": [
    "### Hash Table\n",
    "\n",
    "Maps keys to values using a hash function, providing fast insertion, deletion, and lookup operations.\n",
    "\n",
    "<img src=\"files/hash-table.webp\" source=\"https://www.geeksforgeeks.org/\">"
   ]
  }
 ],
 "metadata": {
  "kernelspec": {
   "display_name": "v",
   "language": "python",
   "name": "python3"
  },
  "language_info": {
   "codemirror_mode": {
    "name": "ipython",
    "version": 3
   },
   "file_extension": ".py",
   "mimetype": "text/x-python",
   "name": "python",
   "nbconvert_exporter": "python",
   "pygments_lexer": "ipython3",
   "version": "3.12.0"
  }
 },
 "nbformat": 4,
 "nbformat_minor": 5
}
