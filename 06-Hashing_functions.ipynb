{
 "cells": [
  {
   "cell_type": "markdown",
   "metadata": {},
   "source": [
    "# Hashing Functions\n",
    "\n",
    "## Introduction\n",
    "\n",
    "These functions are used in various applications, including data structures, cryptography, and error detection. In Python, hashing functions are used to implement hash tables for dictionaries and sets, as well as for cryptographic purposes.\n",
    "\n",
    "### Examples\n",
    "\n",
    "<img src='files/hash_function.png' source='wikipedia'>\n",
    "\n",
    "### Properties of Hashing Functions\n",
    "\n",
    "1. **Deterministic**: The same input will always produce the same hash output.\n",
    "1. **Fixed Size**: The hash value has a fixed size, regardless of the size of the input.\n",
    "1. **Efficient**: The computation of the hash value is typically fast.\n",
    "1. **Uniformity**: The distribution of hash values should be uniform to avoid clustering.\n",
    "1. **Irreversibility**: It should be computationally infeasible to reconstruct the input from the hash value.\n",
    "1. **Collision Resistance**: It should be difficult to find two different inputs that produce the same hash value (collision).\n",
    "1. **\"Salt\"**: Sometimes a random value, named \"salt\" is added for security measures.\n",
    "\n",
    "## Why using Hashing functions?\n",
    "\n",
    "1. **Data Structures**: Hash tables are used in dictionaries and sets for efficient data retrieval.\n",
    "1. **Cryptography**: Cryptographic hashing functions are used for digital signatures, message authentication codes (MACs), and password storage.\n",
    "1. **Data Integrity**: Hashing is used to verify that data has not been altered.\n",
    "1. And many more...\n",
    "\n",
    "## Built-in Hashing with `hash()`\n",
    "\n",
    "Python provides a built-in `hash()` function that can be used to generate a hash value for immutable objects like strings, numbers, and tuples. This function is primarily used for implementing hash tables in dictionaries and sets.\n",
    "\n",
    "### Examples:"
   ]
  },
  {
   "cell_type": "code",
   "execution_count": null,
   "metadata": {},
   "outputs": [],
   "source": [
    "# Hashing a string\n",
    "hash(\"Hello, World!\")"
   ]
  },
  {
   "cell_type": "code",
   "execution_count": null,
   "metadata": {},
   "outputs": [],
   "source": [
    "\n",
    "# Hashing a number\n",
    "hash(12345)"
   ]
  },
  {
   "cell_type": "code",
   "execution_count": null,
   "metadata": {},
   "outputs": [],
   "source": [
    "hash((1, 2, 3))"
   ]
  },
  {
   "cell_type": "code",
   "execution_count": null,
   "metadata": {},
   "outputs": [],
   "source": [
    "# Hashing a tuple\n",
    "hash((1, 2, 3))"
   ]
  },
  {
   "cell_type": "code",
   "execution_count": null,
   "metadata": {},
   "outputs": [],
   "source": [
    "# Yields an error!\n",
    "#hash({1, 2, 3})"
   ]
  },
  {
   "cell_type": "code",
   "execution_count": null,
   "metadata": {},
   "outputs": [],
   "source": [
    "# Yields an error!\n",
    "#hash({'a': 1})"
   ]
  },
  {
   "cell_type": "markdown",
   "metadata": {},
   "source": [
    "## Mutable vs. Immutable Types\n",
    "\n",
    "In Python, data types can be categorized as mutable or immutable.\n",
    "\n",
    "### Immutable Types\n",
    "\n",
    "Immutable types are objects whose state cannot be modified after they are created. Examples:\n",
    "\n",
    "- **Strings**: `str`\n",
    "- **Numbers**: `int`, `float`, `complex`\n",
    "- **Tuples**: `tuple`\n",
    "- **Frozen Sets**: `frozenset`\n",
    "- **Boolean** : `bool`\n",
    "- **Range** : `range`\n",
    "- **Bytes** : `bytes`\n",
    "\n",
    "### Mutable Types\n",
    "\n",
    "Mutable types are objects whose state can be modified after they are created. In the built-in Python:\n",
    "\n",
    "- **Lists**: `list`\n",
    "- **Dictionaries**: `dict`\n",
    "- **Sets**: `set`\n",
    "- **Byte Arrat**: `bytearray`\n",
    "\n",
    "But many more objects from specific libraries are mutable.\n",
    "\n",
    "### Example: Mutable vs. Immutable"
   ]
  },
  {
   "cell_type": "code",
   "execution_count": null,
   "metadata": {},
   "outputs": [],
   "source": [
    "# Immutable type: string\n",
    "s = \"hello\"\n",
    "print(id(s))  # Memory address of s\n",
    "s = s.upper()\n",
    "print(id(s))  # Memory address of s after modification"
   ]
  },
  {
   "cell_type": "code",
   "execution_count": null,
   "metadata": {},
   "outputs": [],
   "source": [
    "# Mutable type: list\n",
    "l = [1, 2, 3]\n",
    "print(id(l))  # Memory address of l\n",
    "l.append(4)\n",
    "print(id(l))  # Memory address of l after modification"
   ]
  },
  {
   "cell_type": "markdown",
   "metadata": {},
   "source": [
    "## Hash table\n",
    "\n",
    "A hash map (or hash table) is a data structure that maps keys to values using a hash function. Python uses hash maps to implement dictionaries and sets efficiently."
   ]
  },
  {
   "cell_type": "code",
   "execution_count": null,
   "metadata": {},
   "outputs": [],
   "source": [
    "67890 % 8"
   ]
  },
  {
   "cell_type": "code",
   "execution_count": null,
   "metadata": {},
   "outputs": [],
   "source": [
    "-8621292912452721651 % 8"
   ]
  },
  {
   "cell_type": "code",
   "execution_count": null,
   "metadata": {},
   "outputs": [],
   "source": [
    "8893 % 8"
   ]
  },
  {
   "cell_type": "code",
   "execution_count": null,
   "metadata": {},
   "outputs": [],
   "source": [
    "# Creating a dictionary\n",
    "my_dict = {}\n",
    "\n",
    "# Adding a key-value pair\n",
    "my_dict['name'] = 'Alice'\n",
    "\n",
    "# Internally, Python does the following:\n",
    "# 1. Compute the hash value of the key 'name': hash_value = hash('name')\n",
    "#    Let's say hash('name') = 12349\n",
    "# 2. Determine the index in the hash table using the hash value.\n",
    "#    index = hash_value % table_size\n",
    "#    Let's say table_size = 8, so index = 12349 % 8 = 5\n",
    "# 3. Store the key 'name', its hash value 12349, and the value 'Alice' in the hash table at index 5.\n",
    "\n",
    "# Adding another key-value pair\n",
    "my_dict['age'] = 25\n",
    "\n",
    "# Internally, Python does the following:\n",
    "# 1. Compute the hash value of the key 'age': hash_value = hash('age')\n",
    "#    Let's say hash('age') = 8893\n",
    "# 2. Determine the index in the hash table using the hash value.\n",
    "#    index = hash_value % table_size\n",
    "#    Let's say table_size = 8, so index = 8893 % 8 = 2\n",
    "# 3. Store the key 'age', its hash value 8893, and the value 25 in the hash table at index 2."
   ]
  },
  {
   "cell_type": "markdown",
   "metadata": {},
   "source": [
    "### Graphic representation\n",
    "\n",
    "\n",
    "| Index | Hash Value | Key  | Value  |\n",
    "|-------|------------|------|--------|\n",
    "| 0     |            |      |        |\n",
    "| 1     |            |      |        |\n",
    "| 2     | 8893       | age  | 25     |\n",
    "| 3     |            |      |        |\n",
    "| 4     |            |      |        |\n",
    "| 5     | 12349      | name | Alice  |\n",
    "| 6     |            |      |        |\n",
    "| 7     |            |      |        |\n",
    "\n",
    "### In case of collision?\n",
    "\n",
    "And if an index is already taken. Python creates a new table with more entries and hash again all the elements.\n",
    "\n",
    "### Speed\n",
    "\n",
    "That's why Python is so fast while managing dictionnaries and sets. Instead of having to loop over the entire object, it computes the index thanks to the hash value of the key. 🤯"
   ]
  },
  {
   "cell_type": "markdown",
   "metadata": {},
   "source": [
    "## Let's go further!\n",
    "\n",
    "### Using different algorithms with `hashlib`\n",
    "\n",
    "For cryptographic purposes, Python provides the `hashlib` module, which includes various secure hash and message digest algorithms like SHA-256, SHA-3, and MD5."
   ]
  },
  {
   "cell_type": "code",
   "execution_count": null,
   "metadata": {},
   "outputs": [],
   "source": [
    "import hashlib\n",
    "\n",
    "# Create a SHA-3 hash object\n",
    "hash_object = hashlib.sha256()\n",
    "\n",
    "# Update the hash object with the input data\n",
    "hash_object.update(\"Hello, World!\".encode('utf-8'))\n",
    "\n",
    "# Get the hexadecimal representation of the hash value\n",
    "hash_object.hexdigest()"
   ]
  },
  {
   "cell_type": "code",
   "execution_count": null,
   "metadata": {},
   "outputs": [],
   "source": [
    "import hashlib\n",
    "\n",
    "# Create a SHA-3 hash object\n",
    "hash_object = hashlib.sha3_256()\n",
    "\n",
    "# Update the hash object with the input data\n",
    "hash_object.update(\"Hello, World!\".encode('utf-8'))\n",
    "\n",
    "# Get the hexadecimal representation of the hash value\n",
    "hash_object.hexdigest()"
   ]
  }
 ],
 "metadata": {
  "kernelspec": {
   "display_name": "py131",
   "language": "python",
   "name": "python3"
  },
  "language_info": {
   "codemirror_mode": {
    "name": "ipython",
    "version": 3
   },
   "file_extension": ".py",
   "mimetype": "text/x-python",
   "name": "python",
   "nbconvert_exporter": "python",
   "pygments_lexer": "ipython3",
   "version": "3.13.1"
  }
 },
 "nbformat": 4,
 "nbformat_minor": 2
}
