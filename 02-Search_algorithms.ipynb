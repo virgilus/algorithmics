{
 "cells": [
  {
   "cell_type": "markdown",
   "metadata": {},
   "source": [
    "# Search Algorithms"
   ]
  },
  {
   "cell_type": "markdown",
   "metadata": {},
   "source": [
    "- Linear Search\n",
    "- Binary Search"
   ]
  },
  {
   "cell_type": "markdown",
   "metadata": {},
   "source": [
    "### Linear Search\n",
    "\n",
    "Let's write a function that will help us to find an element in a list.\n",
    "\n",
    "**Input** : A list and the element we are looking for.\n",
    "\n",
    "**Output**: The index of a given element.\n",
    "\n",
    "**Use case**: Useful when the list is unsorted.\n",
    "\n",
    "**How it works**:\n",
    "1. Start from the first element.\n",
    "1. Compare each element with the target value.\n",
    "1. If a match is found, return the index.\n",
    "1. If no match is found, return a \"not found\" indicator such as an negative integer like `-1`."
   ]
  },
  {
   "cell_type": "code",
   "execution_count": null,
   "metadata": {},
   "outputs": [],
   "source": [
    "test_list = [1, 3, 6, 7, 8, 9, 10, 12, 13, 14, 16, 18]\n",
    "\n",
    "def linear_search(arr, target):\n",
    "    pass # Delete the \"pass\" instruction and finish the function"
   ]
  },
  {
   "cell_type": "code",
   "execution_count": null,
   "metadata": {},
   "outputs": [],
   "source": [
    "linear_search(test_list, 18) # Should output 1"
   ]
  },
  {
   "cell_type": "code",
   "execution_count": null,
   "metadata": {},
   "outputs": [],
   "source": [
    "linear_search(test_list, 11) # Should output -1"
   ]
  },
  {
   "cell_type": "markdown",
   "metadata": {},
   "source": [
    "### Binary Search\n",
    "Binary search is an efficient algorithm for finding an element in a sorted list. It repeatedly divides the search interval in half.\n",
    "\n",
    "**Input** : A list and the element we are looking for.\n",
    "\n",
    "**Output**: The index of a given element.\n",
    "\n",
    "**Use case**: Only works on sorted lists.\n",
    "\n",
    "**How it works**:\n",
    "1. Start with the entire list as the search range.\n",
    "1. Compare the middle element with the target.\n",
    "1. If the target is equal to the middle element, return the index.\n",
    "1. If the target is smaller, search the left half; if larger, search the right half.\n",
    "1. Repeat until the target is found or the range is empty.\n",
    "\n",
    "**Hint**:\n",
    "\n",
    "1. Use a `while` loop (with the right condition!)\n",
    "1. Then you'll have an `if`, `elif` and `else` inside the while.\n",
    "1. You'll have to use `return` twice in your function."
   ]
  },
  {
   "cell_type": "code",
   "execution_count": null,
   "metadata": {},
   "outputs": [],
   "source": [
    "test_list = [1, 3, 6, 7, 8, 9, 10, 12, 13, 14, 16, 18]\n",
    "\n",
    "def binary_search(arr, target):\n",
    "    pass # Delete the \"pass\" instruction and code here"
   ]
  },
  {
   "cell_type": "code",
   "execution_count": null,
   "metadata": {},
   "outputs": [],
   "source": [
    "binary_search(test_list, 3) # Should output 1"
   ]
  },
  {
   "cell_type": "code",
   "execution_count": null,
   "metadata": {},
   "outputs": [],
   "source": [
    "binary_search(test_list, 12) # Should output 7"
   ]
  },
  {
   "cell_type": "code",
   "execution_count": null,
   "metadata": {},
   "outputs": [],
   "source": [
    "binary_search(test_list, 18) # Should output 11"
   ]
  },
  {
   "cell_type": "code",
   "execution_count": null,
   "metadata": {},
   "outputs": [],
   "source": [
    "binary_search(test_list, 0) # Should output -1"
   ]
  },
  {
   "cell_type": "code",
   "execution_count": null,
   "metadata": {},
   "outputs": [],
   "source": [
    "binary_search(test_list, 20) # Should output -1"
   ]
  },
  {
   "cell_type": "code",
   "execution_count": null,
   "metadata": {},
   "outputs": [],
   "source": [
    "binary_search(test_list, 11) # Should output -1"
   ]
  }
 ],
 "metadata": {
  "kernelspec": {
   "display_name": "cours",
   "language": "python",
   "name": "python3"
  },
  "language_info": {
   "codemirror_mode": {
    "name": "ipython",
    "version": 3
   },
   "file_extension": ".py",
   "mimetype": "text/x-python",
   "name": "python",
   "nbconvert_exporter": "python",
   "pygments_lexer": "ipython3",
   "version": "3.11.10"
  }
 },
 "nbformat": 4,
 "nbformat_minor": 2
}
