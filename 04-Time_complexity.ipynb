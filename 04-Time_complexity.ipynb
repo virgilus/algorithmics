{
 "cells": [
  {
   "cell_type": "markdown",
   "metadata": {
    "id": "owyUCpyPpjTO"
   },
   "source": [
    "# Time Complexity\n",
    "\n",
    "This notebook has been adapted from [Praveen76](https://github.com/Praveen76/Time-Complexity-Analysis/blob/main/Time_Complexity.ipynb)."
   ]
  },
  {
   "cell_type": "markdown",
   "metadata": {
    "id": "EVaS2uqqpjTP"
   },
   "source": [
    "**Objectives**:\n",
    "\n",
    "- Understand the concept of computational complexity.\n",
    "- Understand time complexity, Big-O notation and their concern about developing algorithms.\n",
    "- Determine the time complexity of given algorithms."
   ]
  },
  {
   "cell_type": "markdown",
   "metadata": {
    "id": "UR5JQB6_pjTP"
   },
   "source": [
    "## Introduction"
   ]
  },
  {
   "cell_type": "markdown",
   "metadata": {
    "id": "uazcUKCqpjTP"
   },
   "source": [
    "**Computational complexity** is a field of computer science which analyzes algorithms based on the amount of resources required for running it. The amount of required resources varies based on the input size, so the complexity is generally expressed as a function of $n$, where $n$ is the size of the input.\n",
    "\n",
    "Also, when we are analyzing an algorithm we can consider:\n",
    "- time complexity and\n",
    "- space complexity\n",
    "\n",
    "The **space complexity** is basically the amount of memory space required to solve a problem in relation to the input size."
   ]
  },
  {
   "cell_type": "markdown",
   "metadata": {
    "id": "7SgH7GfJTGgt"
   },
   "source": [
    "### Time Complexity\n",
    "\n",
    "It is the computational complexity that describes the amount of time it takes to run an algorithm. Time complexity is commonly estimated by counting the number of elementary operations performed by the algorithm, supposing that each elementary operation takes a fixed amount of time to perform.\n",
    "\n",
    "When analyzing the time complexity of an algorithm we may find three cases:\n",
    "- best-case,\n",
    "- average-case, and\n",
    "- worst-case\n",
    "\n",
    "Suppose we have the following unsorted list $$[1, 5, 3, 9, 2, 4, 6, 7, 8]$$ and we need to find the index of a value in this list using linear search.\n",
    "\n",
    "- **best-case**: this is the complexity of solving the problem for the best input. In above example, the best case would be to search for the value 1. Since this is the first value of the list, it would be found in the first iteration.\n",
    "\n",
    "- **average-case**: this is the average complexity of solving the problem. This complexity is defined with respect to the distribution of the values in the input data. Based on above sample, we could say that the average-case would be when we are searching for some value in the “middle” of the list, for example, the value 2.\n",
    "\n",
    "- **worst-case**: this is the complexity of solving the problem for the worst input of size $n$. In our example, the worst-case would be to search for the value 8, which is the last element from the list.\n",
    "\n",
    "Usually, when describing the time complexity of an algorithm, the worst-case is considered."
   ]
  },
  {
   "cell_type": "markdown",
   "metadata": {
    "id": "a0iL-WXrUymU"
   },
   "source": [
    "### Big-O Notation"
   ]
  },
  {
   "cell_type": "markdown",
   "metadata": {
    "id": "camEN7_YU8YF"
   },
   "source": [
    "In computer science, Big-O notation is used to classify algorithms according to how their running time or space requirements grow as the input size ($n$) grows. This notation characterizes functions according to their growth rates: different functions with the same growth rate may be represented using the same O notation.\n",
    "\n",
    "Some of the most common time complexities expressed using the Big-O notation are shown below.\n",
    "\n",
    "<br>\n",
    "\n",
    "| Big-O Notation |  Time Complexity Details |\n",
    "|:---------|:--------|\n",
    "| $O(1)$  | Constant Time Complexity $O(1)$ occurs when the program doesn’t contain any loops, recursive functions or call to any other functions. The run time, in this case, won’t change no matter what the input value is. |\n",
    "| $O(n)$ | Linear Time Complexity $O(n)$ occurs when the run time of the code increases at an order of magnitude proportional to n. Here n is the size of the input. |\n",
    "| $O(log\\ n)$ | Logarithmic Time Complexity $O(log\\ n)$ occurs when at each subsequent step in the algorithm, the time is decreased at a magnitude inversely proportional to N. This generally happens in Binary Search Algorithm. |\n",
    "| $O(n\\ log\\ n)$ | Linearithmic or Quasilinear Time Complexity. One example of an algorithm that runs with this time complexity is Quick Sort, Heap Sort, Merge Sort |\n",
    "| $O(n^2)$ | Quadratic Time Complexity |\n",
    "| $O(2^n)$ | Exponential Time Complexity |\n",
    "| $O(n!)$  | Factorial Time Complexity |\n",
    "<br>\n",
    "\n",
    "When using the Big-O notation, we describe the algorithm’s efficiency based on the increasing size of the input data ($n$). For example, if the input is a string, the $n$ will be the length of the string. If it is a list, the $n$ will be the length of the list and so on.\n",
    "\n",
    "Let’s go through these common time complexities and see how they differ from each other with examples.\n"
   ]
  },
  {
   "cell_type": "markdown",
   "metadata": {
    "id": "rKQ0Fvl_jNqU"
   },
   "source": [
    "### Setup Steps:"
   ]
  },
  {
   "cell_type": "markdown",
   "metadata": {
    "id": "47LuiF46pjTQ"
   },
   "source": [
    "### Import required packages"
   ]
  },
  {
   "cell_type": "code",
   "execution_count": null,
   "metadata": {
    "id": "ADzXQmpspjTQ"
   },
   "outputs": [],
   "source": [
    "import time\n",
    "import numpy as np"
   ]
  },
  {
   "cell_type": "markdown",
   "metadata": {
    "id": "kxlkse6qpjTR"
   },
   "source": [
    "#### **Constant Time** --- $O(1)$"
   ]
  },
  {
   "cell_type": "markdown",
   "metadata": {
    "id": "HOTcysxCpjTR"
   },
   "source": [
    "An algorithm is said to have a constant time when it is not dependent on the input data ($n$). No matter the size of the input data, the running time will always be the same. For example, consider two functions below:\n",
    "- is_bigger() - returns whether $a$ is greater than $b$\n",
    "- get_first() - returns the first element of a list"
   ]
  },
  {
   "cell_type": "code",
   "execution_count": null,
   "metadata": {
    "id": "T4lSCu4gpjTS"
   },
   "outputs": [],
   "source": [
    "# Create is_bigger() function\n",
    "\n",
    "def is_bigger(a, b):\n",
    "    if a > b:\n",
    "        return True\n",
    "    else:\n",
    "        return False"
   ]
  },
  {
   "cell_type": "code",
   "execution_count": null,
   "metadata": {
    "id": "FWrQzGVbiN0f"
   },
   "outputs": [],
   "source": [
    "# Initialize x, y\n",
    "x = 10\n",
    "y = 12\n",
    "\n",
    "# Perform is_bigger() function and check execution time\n",
    "begin = time.time()\n",
    "result = is_bigger(x, y)\n",
    "end = time.time()\n",
    "\n",
    "print(result)\n",
    "\n",
    "# Total time taken\n",
    "print(f\"Total runtime: {end - begin} sec\")"
   ]
  },
  {
   "cell_type": "code",
   "execution_count": null,
   "metadata": {
    "id": "0nc8bFAsZz0s"
   },
   "outputs": [],
   "source": [
    "# Create get_first() function\n",
    "\n",
    "def get_first(data):\n",
    "    return data[0]\n",
    "\n",
    "# Input data\n",
    "data = [1, 2, 9, 8, 3, 4, 7, 6, 5]\n",
    "\n",
    "# Perform get_first() function and check execution time\n",
    "begin = time.time()\n",
    "result = get_first(data)\n",
    "end = time.time()\n",
    "\n",
    "print(result)\n",
    "\n",
    "# Total time taken\n",
    "print(f\"Total runtime: {end - begin} sec\")"
   ]
  },
  {
   "cell_type": "markdown",
   "metadata": {
    "id": "Ge7IZa_BZ2jf"
   },
   "source": [
    "Here, independently of the input data size, they will always have the same running time since the first one only compares the two inputs and the second one only gets the first value from the list.\n",
    "\n",
    "An algorithm with constant time complexity is excellent since we don’t need to worry about the input size."
   ]
  },
  {
   "cell_type": "markdown",
   "metadata": {
    "id": "_FkRp0AHBb5Z"
   },
   "source": [
    "#### **Linear Time** --- $O(n)$\n",
    "\n",
    "An algorithm is said to have a linear time complexity when the running time increases at most linearly with the size of the input data. This is the best possible time complexity when the algorithm must examine all values in the input data.\n",
    "\n",
    "For example, printing all the values in a list."
   ]
  },
  {
   "cell_type": "code",
   "execution_count": null,
   "metadata": {
    "id": "QiVgLfx7AiLF"
   },
   "outputs": [],
   "source": [
    "# Create a list\n",
    "data = [1, 2, 3, 4, 5, 6, 7, 8, 9]\n",
    "\n",
    "# Print all the values of list and check the execution time\n",
    "begin = time.time()\n",
    "\n",
    "for value in data:\n",
    "    print(value, end= \", \")\n",
    "\n",
    "end = time.time()\n",
    "\n",
    "# Total time taken\n",
    "print(f\"\\n Total runtime: {end - begin} sec\")"
   ]
  },
  {
   "cell_type": "markdown",
   "metadata": {
    "id": "pzp0RQV71NUd"
   },
   "source": [
    "Now, increase the length of list and print all elements."
   ]
  },
  {
   "cell_type": "code",
   "execution_count": null,
   "metadata": {
    "id": "EnnoBRHQJSRC"
   },
   "outputs": [],
   "source": [
    "# Create a list\n",
    "data = [1, 2, 3, 4, 5, 6, 7, 8, 9, 10, 11, 12, 13, 14, 15, 16, 17, 18]\n",
    "\n",
    "# Print all the values of list and check the execution time\n",
    "begin = time.time()\n",
    "\n",
    "for value in data:\n",
    "    print(value, end=\", \")\n",
    "\n",
    "end = time.time()\n",
    "\n",
    "# Total time taken\n",
    "print(f\"\\n Total runtime: {end - begin} sec\")"
   ]
  },
  {
   "cell_type": "markdown",
   "metadata": {
    "id": "Aa7LQKjfBxmz"
   },
   "source": [
    "From the above results, we can see that the execution time has increased almost linearly i.e. when we have doubled the elements within a list, the execution also gets doubled.\n",
    "\n",
    "Let’s take a look at the example of a linear search, where we need to find the position of an element in an unsorted list:"
   ]
  },
  {
   "cell_type": "code",
   "execution_count": null,
   "metadata": {
    "id": "O5Gno0qDBxEt"
   },
   "outputs": [],
   "source": [
    "# Create linear_search() function\n",
    "def linear_search(data, value):\n",
    "    for index in range(len(data)):\n",
    "        if value == data[index]:\n",
    "            return index\n",
    "    raise ValueError('Value not found in the list')\n",
    "\n",
    "# Input data as list of 9 elements\n",
    "data = [1, 5, 3, 9, 2, 4, 6, 7, 8]\n",
    "\n",
    "# Perform linear_search() function and check execution time\n",
    "begin = time.time()\n",
    "result = linear_search(data, 8)\n",
    "end = time.time()\n",
    "\n",
    "print(result)\n",
    "\n",
    "# Total time taken\n",
    "print(f\"Total runtime: {end - begin} sec\")"
   ]
  },
  {
   "cell_type": "markdown",
   "metadata": {
    "id": "cJSCUkryMqUi"
   },
   "source": [
    "Note that in this example, we need to look at all values in the list to find the value we are looking for.\n",
    "\n",
    "Now, let's increase the length of list and do a linear search."
   ]
  },
  {
   "cell_type": "code",
   "execution_count": null,
   "metadata": {
    "id": "xNTIZMyEJ6W0"
   },
   "outputs": [],
   "source": [
    "# Input data as list of 18 elements\n",
    "data = [1, 2, 3, 4, 5, 6, 7, 8, 9, 10, 11, 15, 13, 12, 14, 16, 17, 18]\n",
    "\n",
    "# Perform linear_search() function and check execution time\n",
    "begin = time.time()\n",
    "result = linear_search(data, 18)\n",
    "end = time.time()\n",
    "\n",
    "print(result)\n",
    "\n",
    "# Total time taken\n",
    "print(f\"Total runtime: {end - begin} sec\")"
   ]
  },
  {
   "cell_type": "markdown",
   "metadata": {
    "id": "Yz1CCHt-CEUM"
   },
   "source": [
    "From the above results also we can see that the execution time has increased almost linearly."
   ]
  },
  {
   "cell_type": "markdown",
   "metadata": {
    "id": "bUUZvgj3boYU"
   },
   "source": [
    "#### **Logarithmic Time** --- $O(log\\ n)$"
   ]
  },
  {
   "cell_type": "markdown",
   "metadata": {
    "id": "1FqcNn7gboYW"
   },
   "source": [
    "An algorithm is said to have a logarithmic time complexity when it reduces the size of the input data in each step (it does not need to look at all values of the input data).\n",
    "\n",
    "The algorithm runtime increases very slowly compared to an increase in input size."
   ]
  },
  {
   "cell_type": "markdown",
   "metadata": {
    "id": "ESrSnj8PAGVp"
   },
   "source": [
    "Algorithms with logarithmic time complexity are commonly found in operations on binary trees or when using binary search. Let’s take a look at the example of a binary search, where we need to find the position of an element in a sorted list."
   ]
  },
  {
   "cell_type": "markdown",
   "metadata": {
    "id": "zufsZW28ArWh"
   },
   "source": [
    "Steps of the binary search:\n",
    "- Calculate the middle of the list.\n",
    "- If the searched value is lower than the value in the middle of the list, set a new right bounder.\n",
    "- If the searched value is higher than the value in the middle of the list, set a new left bounder.\n",
    "- If the search value is equal to the value in the middle of the list, return the middle (the index).\n",
    "- Repeat the steps above until the value is found or the left bounder is equal or higher the right bounder."
   ]
  },
  {
   "cell_type": "code",
   "execution_count": null,
   "metadata": {
    "id": "jShGdyzKAEcZ"
   },
   "outputs": [],
   "source": [
    "# Create a function for performing binary search\n",
    "def binary_search(data, value):\n",
    "    n = len(data)\n",
    "    left = 0\n",
    "    right = n - 1\n",
    "    while left <= right:\n",
    "        middle = (left + right) // 2\n",
    "        if value < data[middle]:\n",
    "            right = middle - 1\n",
    "        elif value > data[middle]:\n",
    "            left = middle + 1\n",
    "        else:\n",
    "            return middle\n",
    "    raise ValueError('Value is not in the list')\n",
    "\n",
    "# Input data as a sorted list\n",
    "data = [1, 2, 3, 4, 5, 6, 7, 8, 9]\n",
    "\n",
    "begin = time.time()\n",
    "result = binary_search(data, 8)\n",
    "end = time.time()\n",
    "\n",
    "print(result)\n",
    "\n",
    "# Total time taken\n",
    "print(f\"Total runtime: {end - begin} sec\")"
   ]
  },
  {
   "cell_type": "markdown",
   "metadata": {
    "id": "NbDRczeKBWgM"
   },
   "source": [
    "It is important to understand that an algorithm that must access all elements of its input data cannot take logarithmic time, as the time taken for reading input of size $n$ is of the order of $n$."
   ]
  },
  {
   "cell_type": "markdown",
   "metadata": {
    "id": "NRFnFp7NCKsD"
   },
   "source": [
    "#### **Quasilinear Time** --- $O(n\\ log\\ n)$\n",
    "\n",
    "An algorithm is said to have a quasilinear time complexity when each operation in the input data have a logarithm time complexity. It is commonly seen in sorting algorithms (e.g. mergesort, timsort, heapsort).\n",
    "\n",
    "For example: for each value in the data1 ($O(n)$) use the binary search ($O(log\\ n$)) to search the same value in data2."
   ]
  },
  {
   "cell_type": "code",
   "execution_count": null,
   "metadata": {
    "id": "VwYYUSXBCBJ2"
   },
   "outputs": [],
   "source": [
    "# Create data1 and data2\n",
    "data1 = [2, 3, 6, 8]\n",
    "data2 = [1, 2, 3, 4, 5, 6, 7, 8, 9]\n",
    "result = []\n",
    "\n",
    "# Perform binary search for each element of data1 to search the same value in data2, and check the execution time\n",
    "begin = time.time()\n",
    "\n",
    "for value in data1:\n",
    "    result.append(binary_search(data2, value))\n",
    "\n",
    "end = time.time()\n",
    "print(result)\n",
    "\n",
    "# Total time taken\n",
    "print(f\"Total runtime: {end - begin} sec\")"
   ]
  },
  {
   "cell_type": "markdown",
   "metadata": {
    "id": "nwKv1nReCxH9"
   },
   "source": [
    "Another, more complex example, can be found in the Mergesort algorithm. Mergesort is an efficient, general-purpose, comparison-based sorting algorithm which has quasilinear time complexity.\n",
    "\n",
    "It divides the input list of length $n$ in half successively until there are\n",
    "$n$ lists of size 1. Then, pairs of lists are merged together with the smaller first element among the pair of lists being\n",
    "added in each step. Through successive merging and through comparison of first elements, the sorted list is built.\n",
    "\n",
    "The following image exemplifies the steps taken by the Mergesort algorithm.\n",
    "\n",
    "<br>\n",
    "<figure>\n",
    "<center>\n",
    "<img src=\"https://datascienceimages.s3.eu-north-1.amazonaws.com/MLOps/Time_Complexity/merge_sort.png\">\n",
    "</center>\n",
    "<br>\n",
    "\n",
    "Let’s see an example:"
   ]
  },
  {
   "cell_type": "code",
   "execution_count": null,
   "metadata": {
    "id": "bV4l9NIBCqQ3"
   },
   "outputs": [],
   "source": [
    "# Create a function for performing merge sort\n",
    "\n",
    "def merge_sort(data):\n",
    "    if len(data) <= 1:\n",
    "        return\n",
    "\n",
    "    mid = len(data) // 2\n",
    "    left_data = data[:mid]\n",
    "    right_data = data[mid:]\n",
    "\n",
    "    merge_sort(left_data)\n",
    "    merge_sort(right_data)\n",
    "\n",
    "    left_index = 0\n",
    "    right_index = 0\n",
    "    data_index = 0\n",
    "\n",
    "    while left_index < len(left_data) and right_index < len(right_data):\n",
    "        if left_data[left_index] < right_data[right_index]:\n",
    "            data[data_index] = left_data[left_index]\n",
    "            left_index += 1\n",
    "        else:\n",
    "            data[data_index] = right_data[right_index]\n",
    "            right_index += 1\n",
    "        data_index += 1\n",
    "\n",
    "    if left_index < len(left_data):\n",
    "        del data[data_index:]\n",
    "        data += left_data[left_index:]\n",
    "    elif right_index < len(right_data):\n",
    "        del data[data_index:]\n",
    "        data += right_data[right_index:]\n"
   ]
  },
  {
   "cell_type": "code",
   "execution_count": null,
   "metadata": {
    "id": "_W4BpYUsjysg"
   },
   "outputs": [],
   "source": [
    "# Input data\n",
    "data = [9, 1, 7, 6, 2, 8, 5, 3, 4, 0]\n",
    "\n",
    "# Perform merge_sort() function and check execution time\n",
    "begin = time.time()\n",
    "merge_sort(data)\n",
    "end = time.time()\n",
    "\n",
    "print(data)\n",
    "\n",
    "# Total time taken\n",
    "print(f\"Total runtime: {end - begin} sec\")"
   ]
  },
  {
   "cell_type": "markdown",
   "metadata": {
    "id": "Fucm4hvCDnyy"
   },
   "source": [
    "#### **Quadratic Time** --- $O(n^2)$\n",
    "An algorithm is said to have a quadratic time complexity when it needs to perform a linear time operation for each value in the input data.\n",
    "\n",
    "For example, printing the pairs of elements within a list."
   ]
  },
  {
   "cell_type": "code",
   "execution_count": null,
   "metadata": {
    "id": "ipyczWUYC737"
   },
   "outputs": [],
   "source": [
    "# Input data\n",
    "data = [1, 2, 3, 4]\n",
    "\n",
    "# Print the pairs of elements of a list\n",
    "begin = time.time()\n",
    "\n",
    "for x in data:\n",
    "    for y in data:\n",
    "        print(x, y)\n",
    "\n",
    "end = time.time()\n",
    "\n",
    "# Total time taken\n",
    "print(f\"Total runtime: {end - begin} sec\")"
   ]
  },
  {
   "cell_type": "markdown",
   "metadata": {
    "id": "R34dAlbJD-2j"
   },
   "source": [
    "Bubble sort is a great example of quadratic time complexity since for each value it needs to compare to all other values in the list.\n",
    "\n",
    "The BubbleSort compares each successive pair of elements in an unordered list and inverts the elements if they are not in order.\n",
    "\n",
    "The following image exemplifies the steps taken by the Bubblesort algorithm.\n",
    "\n",
    "<br>\n",
    "<figure>\n",
    "<center>\n",
    "<img src=\"https://datascienceimages.s3.eu-north-1.amazonaws.com/MLOps/Time_Complexity/bubble_sort.png\" width=600px>\n",
    "</center>\n",
    "<br>\n",
    "\n",
    "Let’s see an example:"
   ]
  },
  {
   "cell_type": "code",
   "execution_count": null,
   "metadata": {
    "id": "05ky_HYeIHOJ"
   },
   "outputs": [],
   "source": [
    "# Create a function to perform Bubble sort\n",
    "def bubble_sort(data):\n",
    "    swapped = True\n",
    "    while swapped:\n",
    "        swapped = False\n",
    "        for i in range(len(data)-1):\n",
    "            if data[i] > data[i+1]:\n",
    "                data[i], data[i+1] = data[i+1], data[i]\n",
    "                swapped = True"
   ]
  },
  {
   "cell_type": "code",
   "execution_count": null,
   "metadata": {
    "id": "dpzE9XVID40Y"
   },
   "outputs": [],
   "source": [
    "# Input data\n",
    "data = [9, 1, 7, 6, 2, 8, 5, 3, 4, 0]\n",
    "\n",
    "# Perform bubble_sort() and check the execution time\n",
    "begin = time.time()\n",
    "bubble_sort(data)\n",
    "end = time.time()\n",
    "\n",
    "print(data)\n",
    "\n",
    "# Total time taken\n",
    "print(f\"Total runtime: {end - begin} sec\")"
   ]
  },
  {
   "cell_type": "markdown",
   "metadata": {
    "id": "B9G0OB1HEI0Q"
   },
   "source": [
    "#### **Exponential Time** --- $O(2^n)$\n",
    "An algorithm is said to have an exponential time complexity when the growth doubles with each addition to the input data set. This kind of time complexity is usually seen in brute-force algorithms.\n",
    "\n",
    "An example of an exponential time algorithm is the recursive calculation of Fibonacci numbers:"
   ]
  },
  {
   "cell_type": "code",
   "execution_count": null,
   "metadata": {
    "id": "gig6w8FoEGAa"
   },
   "outputs": [],
   "source": [
    "# Create a function for getting the nth element of a Fibonacci series\n",
    "\n",
    "def fibonacci(n):\n",
    "    if n <= 1:\n",
    "        return n\n",
    "    return fibonacci(n-1) + fibonacci(n-2)"
   ]
  },
  {
   "cell_type": "markdown",
   "metadata": {
    "id": "2uYR4JcWEvt4"
   },
   "source": [
    "As we may have noticed, the time complexity of recursive functions is a little harder to define since it depends on how many times the function is called and the time complexity of a single function call.\n",
    "\n",
    "The following recursion tree was generated by the Fibonacci algorithm using n = 4:\n",
    "\n",
    "<br>\n",
    "<figure>\n",
    "<center>\n",
    "<img src=\"https://datascienceimages.s3.eu-north-1.amazonaws.com/MLOps/Time_Complexity/fibonacci_4.png\">\n",
    "</center>\n",
    "<br>\n",
    "\n",
    "Note that it will call itself until it reaches the leaves. When reaching the leaves it returns the value itself."
   ]
  },
  {
   "cell_type": "code",
   "execution_count": null,
   "metadata": {
    "id": "Rj3DyxTWOTbz"
   },
   "outputs": [],
   "source": [
    "# Print 4th element of a Fibonacci series and check the execution time\n",
    "begin = time.time()\n",
    "result = fibonacci(4)\n",
    "end = time.time()\n",
    "\n",
    "print(result)\n",
    "\n",
    "# Total time taken\n",
    "print(f\"Total runtime: {end - begin} sec\")"
   ]
  },
  {
   "cell_type": "markdown",
   "metadata": {
    "id": "vx1haJYCORzB"
   },
   "source": [
    "Now, look how the recursion tree grows just increasing the n to 6:\n",
    "\n",
    "<br>\n",
    "<figure>\n",
    "<center>\n",
    "<img src=\"https://datascienceimages.s3.eu-north-1.amazonaws.com/MLOps/Time_Complexity/fibonacci_6.png\">\n",
    "</center>\n",
    "<br>\n"
   ]
  },
  {
   "cell_type": "code",
   "execution_count": null,
   "metadata": {
    "id": "ZLWW1WKUO4PX"
   },
   "outputs": [],
   "source": [
    "# Print 6th element of a fibonacci series and check the execution time\n",
    "begin = time.time()\n",
    "result = fibonacci(6)\n",
    "end = time.time()\n",
    "\n",
    "print(result)\n",
    "\n",
    "# Total time taken\n",
    "print(f\"Total runtime: {end - begin} sec\")"
   ]
  },
  {
   "cell_type": "markdown",
   "metadata": {
    "id": "d3XDzuFXGMJ-"
   },
   "source": [
    "#### **Factorial Time** --- $O(n!)$\n",
    "\n",
    "An algorithm is said to have a factorial time complexity when it grows in a factorial way based on the size of the input data, for example:\n",
    "\n",
    "    2! = 2 x 1 = 2\n",
    "    3! = 3 x 2 x 1 = 6\n",
    "    4! = 4 x 3 x 2 x 1 = 24\n",
    "    5! = 5 x 4 x 3 x 2 x 1 = 120\n",
    "    6! = 6 x 5 x 4 x 3 x 2 x 1 = 720\n",
    "    7! = 7 x 6 x 5 x 4 x 3 x 2 x 1 = 5040\n",
    "    8! = 8 x 7 x 6 x 5 x 4 x 3 x 2 x 1 = 40320"
   ]
  },
  {
   "cell_type": "markdown",
   "metadata": {
    "id": "V4wEZ6NTGzyG"
   },
   "source": [
    "A great example of an algorithm which has a factorial time complexity is the Heap’s algorithm, which is used for generating all possible permutations of $n$ objects.\n",
    "\n",
    "Heap found a systematic method for choosing at each step a pair of elements to switch, in order to produce every possible permutation of these elements exactly once."
   ]
  },
  {
   "cell_type": "code",
   "execution_count": null,
   "metadata": {
    "id": "CYboJUlMEoSO"
   },
   "outputs": [],
   "source": [
    "# Create a function to perform Heap's permutation\n",
    "\n",
    "def heap_permutation(data, n):\n",
    "    if n == 1:\n",
    "        print(data)\n",
    "        return\n",
    "\n",
    "    for i in range(n):\n",
    "        heap_permutation(data, n - 1)\n",
    "        if n % 2 == 0:\n",
    "            data[i], data[n-1] = data[n-1], data[i]\n",
    "        else:\n",
    "            data[0], data[n-1] = data[n-1], data[0]\n",
    "\n",
    "# Input data\n",
    "data = [1, 2, 3]\n",
    "\n",
    "# Perform Heap's permutation and check the execution time\n",
    "begin = time.time()\n",
    "result = heap_permutation(data, len(data))\n",
    "end = time.time()\n",
    "\n",
    "print(result)\n",
    "\n",
    "# Total time taken\n",
    "print(f\"Total runtime: {end - begin} sec\")"
   ]
  },
  {
   "cell_type": "markdown",
   "metadata": {
    "id": "CV1tqh7kHIlf"
   },
   "source": [
    "Note that it will grow in a factorial way, based on the size of the input data, so we can say the algorithm has factorial time complexity $O(n!)$."
   ]
  },
  {
   "cell_type": "markdown",
   "metadata": {
    "id": "uLHY4rWgHdXb"
   },
   "source": [
    "### Analyze the time complexity of an algorithm"
   ]
  },
  {
   "cell_type": "markdown",
   "metadata": {
    "id": "YPvWgcCpHjWQ"
   },
   "source": [
    "It is important to note that when analyzing the time complexity of an algorithm with several operations we need to describe the algorithm based on the largest complexity among all operations. For example, consider a function below:"
   ]
  },
  {
   "cell_type": "code",
   "execution_count": null,
   "metadata": {
    "id": "WWOsfudHHEiA"
   },
   "outputs": [],
   "source": [
    "def my_function(data):\n",
    "    first_element = data[0]\n",
    "\n",
    "    for value in data:\n",
    "        print(value)\n",
    "\n",
    "    for x in data:\n",
    "        for y in data:\n",
    "            print(x, y)"
   ]
  },
  {
   "cell_type": "markdown",
   "metadata": {
    "id": "ZhiLN5HtHsRd"
   },
   "source": [
    "Even though the operations in `my_function` does not make sense we can see that it has multiple time complexities: $O(1) + O(n) + O(n^2)$.\n",
    "\n",
    "So, when increasing the size of the input data, the bottleneck of this algorithm will be the operation that takes $O(n^2)$. Based on this, we can describe the time complexity of this algorithm as $O(n^2)$."
   ]
  },
  {
   "cell_type": "markdown",
   "metadata": {
    "id": "1a6p2MX4IAAb"
   },
   "source": [
    "### Big-O Cheat Sheets\n",
    "\n",
    "<br>\n",
    "<figure>\n",
    "<center>\n",
    "<img src=\"https://datascienceimages.s3.eu-north-1.amazonaws.com/MLOps/Time_Complexity/common_data_structures_options.png\">\n",
    "</center>\n",
    "<br>\n",
    "\n",
    "\n",
    "<br>\n",
    "<figure>\n",
    "<center>\n",
    "<img src=\"https://datascienceimages.s3.eu-north-1.amazonaws.com/MLOps/Time_Complexity/array_sorting_algorithms.png\">\n",
    "</center>\n",
    "<br>\n",
    "\n",
    "\n",
    "<br>\n",
    "<figure>\n",
    "<center>\n",
    "<img src=\"https://datascienceimages.s3.eu-north-1.amazonaws.com/MLOps/Time_Complexity/big_O_complexity_chart.jpeg\">\n",
    "</center>\n",
    "<br>"
   ]
  },
  {
   "cell_type": "markdown",
   "metadata": {
    "id": "zp_j_BQPloNd"
   },
   "source": [
    "### Find the time complexity of the following codes:"
   ]
  },
  {
   "cell_type": "markdown",
   "metadata": {
    "id": "EZ1dmqS70l2c"
   },
   "source": [
    "**Example 1**"
   ]
  },
  {
   "cell_type": "code",
   "execution_count": null,
   "metadata": {
    "id": "ENyeVfWXmEGb"
   },
   "outputs": [],
   "source": [
    "# Example 1\n",
    "\n",
    "# Initialize a and b with 0\n",
    "a = 0\n",
    "b = 0\n",
    "\n",
    "# For instance let N = 10, M = 15\n",
    "N = 10\n",
    "M = 15\n",
    "\n",
    "for i in range(N):\n",
    "    a = a + np.random.rand()\n",
    "\n",
    "for j in range(M):\n",
    "    b = b + np.random.rand()"
   ]
  },
  {
   "cell_type": "markdown",
   "metadata": {
    "id": "Xbl7jmZwpF3g"
   },
   "source": [
    "=> $O(N + M)$\n",
    "\n",
    "*Explanation*: The first loop is $O(N)$ and the second loop is $O(M)$. Since we don’t know which is bigger, we say this is $O(N + M)$. This can also be written as $O(max(N, M))$."
   ]
  },
  {
   "cell_type": "markdown",
   "metadata": {
    "id": "Wb1Oqd9w0qRv"
   },
   "source": [
    "**Example 2**"
   ]
  },
  {
   "cell_type": "code",
   "execution_count": null,
   "metadata": {
    "id": "ekELCrYPqFJ6"
   },
   "outputs": [],
   "source": [
    "# Example 2\n",
    "\n",
    "# Initialize a with 0\n",
    "a = 0\n",
    "\n",
    "# For instance let N = 10\n",
    "N = 10\n",
    "\n",
    "for i in range(N):\n",
    "    for j in range(N, i, -1):\n",
    "        a = a + i + j"
   ]
  },
  {
   "cell_type": "markdown",
   "metadata": {
    "id": "dVGX2f9Ur_Va"
   },
   "source": [
    "=> $O(N^2)$\n",
    "\n",
    "*Explanation*:\n",
    "The above code runs total no of times\n",
    "\n",
    "$= N + (N – 1) + (N – 2) + … 1 + 0 $\n",
    "\n",
    "$= N * (N + 1) / 2 $\n",
    "\n",
    "$= 1/2 * N^2 + 1/2 * N $\n",
    "\n",
    "$O(N^2)$ times."
   ]
  },
  {
   "cell_type": "markdown",
   "metadata": {
    "id": "IzPSFv0_0rCm"
   },
   "source": [
    "**Example 3**"
   ]
  },
  {
   "cell_type": "code",
   "execution_count": null,
   "metadata": {
    "id": "ORvfteics2RE"
   },
   "outputs": [],
   "source": [
    "# Example 3\n",
    "\n",
    "# Initialize k with 0\n",
    "k = 0\n",
    "\n",
    "# For instance let n = 16\n",
    "n = 16\n",
    "\n",
    "for i in range(int(n/2), n+1):\n",
    "    j = 2\n",
    "    while (j <= n):\n",
    "        k = k + n/2\n",
    "        j = j * 2"
   ]
  },
  {
   "cell_type": "markdown",
   "metadata": {
    "id": "Toc28KZwto5A"
   },
   "source": [
    "=> $O(n\\ log\\ n)$\n",
    "\n",
    "*Explanation*: Here, $j$ keeps doubling till it is less than or equal to $n$. When we can double a number for several times till it is less than $n$, the time complexity would be $log(n)$.\n",
    "\n",
    "Let’s take the examples here.\n",
    "\n",
    "for $n = 16, j = 2, 4, 8, 16 $\n",
    "\n",
    "for $n = 32, j = 2, 4, 8, 16, 32 $\n",
    "\n",
    "So, $j$ would run for $O(log\\ n)$ steps.\n",
    "$i$ runs for $n/2$ steps.\n",
    "\n",
    "So, total steps $= O(n/ 2 * log\\ (n)) = O(n*log\\ n)$"
   ]
  },
  {
   "cell_type": "markdown",
   "metadata": {},
   "source": [
    "### References\n",
    "- Computational complexity: https://en.wikipedia.org/wiki/Computational_complexity\n",
    "- Big-O notation: https://en.wikipedia.org/wiki/Big_O_notation\n",
    "- Time complexity: https://en.wikipedia.org/wiki/Time_complexity\n",
    "- Big-O Cheat Sheet: http://bigocheatsheet.com/\n",
    "- A coffee-break introduction to time complexity of algorithms: https://vickylai.com/verbose/a-coffee-break-introduction-to-time-complexity-of-algorithms/"
   ]
  }
 ],
 "metadata": {
  "colab": {
   "include_colab_link": true,
   "provenance": []
  },
  "kernelspec": {
   "display_name": "py131",
   "language": "python",
   "name": "python3"
  },
  "language_info": {
   "codemirror_mode": {
    "name": "ipython",
    "version": 3
   },
   "file_extension": ".py",
   "mimetype": "text/x-python",
   "name": "python",
   "nbconvert_exporter": "python",
   "pygments_lexer": "ipython3",
   "version": "3.13.1"
  }
 },
 "nbformat": 4,
 "nbformat_minor": 0
}
