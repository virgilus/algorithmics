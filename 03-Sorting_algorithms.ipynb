{
 "cells": [
  {
   "cell_type": "markdown",
   "metadata": {},
   "source": [
    "# Sorting Algorithms"
   ]
  },
  {
   "cell_type": "markdown",
   "metadata": {},
   "source": [
    "## Bubble Sort"
   ]
  },
  {
   "cell_type": "markdown",
   "metadata": {},
   "source": [
    "Bubble Sort repeatedly compares adjacent elements and swaps them if they are in the wrong order. This process is repeated for all elements.\n",
    "\n",
    "**How it works**:\n",
    "1. Compare adjacent elements.\n",
    "1. Swap them if they are in the wrong order.\n",
    "1. Repeat until no swaps are needed.\n",
    "\n",
    "**Example**:\n",
    "For the list `[40, 20, 70, 10]`:\n",
    "- Compare `40` and `20`, swap → `[20, 40, 70, 10]`\n",
    "- Compare `40` and `70`, no swap → `[20, 40, 70, 10]`\n",
    "- Compare `70` and `10`, swap → `[20, 40, 10, 70]`\n",
    "- Repeat until the list is sorted: `[10, 20, 40, 70]`\n",
    "\n",
    "**Hints**:\n",
    "\n",
    "- You can use a `while` loop and inside a `for` loop. In that case, create a variable named `is_sorted` and store `True` or `False` in it, so you know when to stop the loop and exit the `while`.\n",
    "- (Alternatively you can use two `for` loops, in that case you'll probably need to use a `break` if a certain condition is met to exit the for loop.)\n",
    "- In Python you can easily swap values using this syntax:\n",
    "```python\n",
    "    a, b = b, a\n",
    "```    \n"
   ]
  },
  {
   "cell_type": "code",
   "execution_count": null,
   "metadata": {},
   "outputs": [],
   "source": [
    "test_list = [40, 20, 70, 10]\n",
    "\n",
    "def bubble_sort(arr: list) -> list:\n",
    "    # Complete the function!\n",
    "    return arr\n",
    "\n",
    "bubble_sort(test_list)"
   ]
  },
  {
   "cell_type": "code",
   "execution_count": null,
   "metadata": {},
   "outputs": [],
   "source": [
    "# Use this cell to test if your function works for real!\n",
    "from algo_utils import verify_sort_func\n",
    "verify_sort_func(bubble_sort)"
   ]
  },
  {
   "cell_type": "markdown",
   "metadata": {},
   "source": [
    "## Selection Sort"
   ]
  },
  {
   "cell_type": "markdown",
   "metadata": {},
   "source": [
    "Selection Sort divides the list into two parts: sorted and unsorted.\n",
    "\n",
    "It repeatedly selects the smallest element from the unsorted part and moves it to the sorted part.\n",
    "\n",
    "**How it works**:\n",
    "1. Find the smallest element in the unsorted part.\n",
    "2. Swap it with the first unsorted element.\n",
    "3. Repeat for the remaining unsorted elements.\n",
    "\n",
    "**Example**:\n",
    "For the list `[40, 20, 70, 10]`:\n",
    "- Find the smallest element `10` and swap with `40` → `[10, 20, 70, 40]`\n",
    "- Repeat for the rest → `[10, 20, 40, 7]`\n",
    "\n",
    "**HINTs**:\n",
    "\n",
    "- **First of all**\n",
    "    - One simple `for` list is enough with 2 or 3 lines of code inside is enough!\n",
    "    - And as we're working only with the index, let's start by using a `for i in range(len(arr)):`.\n",
    "    - The unsorted part will be the subsest `arr[i:]` where `i` is the index. And each loop we'll examine a new element for this index.\n",
    "    - And `arr[i]` is the element we're currently trying to sort.\n",
    "\n",
    "- **The method**\n",
    "    - You have every right to use the `min()` function to find the smallest element.\n",
    "    - You can use `arr.index()` to find the index of a specific value (if several values are in the list, it returns the first one it encounters).\n",
    "    - When we'll find a minimum index, it will be the relative index from the unsorted part. To get the absolute index (the index of just `arr`), we just need to add `i` to the minimum index we found.\n",
    "    - First, find the index of the minimum element in the remaining unsorted portion.\n",
    "    - Then, if the minimum value index is different from the index, swap the found minimum element with the first element of the unsorted portion.\n",
    "\n",
    "**Need More Help ?**\n",
    "\n",
    "What if I want to find the smallest value of this array ?"
   ]
  },
  {
   "cell_type": "code",
   "execution_count": null,
   "metadata": {},
   "outputs": [],
   "source": [
    "# First, let's find the smallest value of this array:\n",
    "test_list = [40, 20, 70, 10]\n",
    "print(min(test_list)) # outputs 10\n",
    "# Then what if want to find the index of this value?\n",
    "print(test_list.index(min(test_list))) # outputs 3 (the index of 10)"
   ]
  },
  {
   "cell_type": "markdown",
   "metadata": {},
   "source": [
    "Now, you have everything you need to know to complete the following function!"
   ]
  },
  {
   "cell_type": "code",
   "execution_count": null,
   "metadata": {},
   "outputs": [],
   "source": [
    "test_list = [40, 20, 70, 10]\n",
    "\n",
    "def selection_sort(arr: list) -> list:\n",
    "  # Complete the function!\n",
    "  return arr\n",
    "\n",
    "selection_sort(test_list)"
   ]
  },
  {
   "cell_type": "code",
   "execution_count": null,
   "metadata": {},
   "outputs": [],
   "source": [
    "# If you think it works, test it with this function:\n",
    "from algo_utils import verify_sort_func\n",
    "verify_sort_func(selection_sort)"
   ]
  },
  {
   "cell_type": "markdown",
   "metadata": {},
   "source": [
    "## Insertion Sort"
   ]
  },
  {
   "cell_type": "markdown",
   "metadata": {},
   "source": [
    "Insertion Sort builds the sorted list one element at a time by picking elements from the unsorted part and placing them in their correct position.\n",
    "\n",
    "**How it works**:\n",
    "1. Take the first unsorted element.\n",
    "2. Compare it with the elements in the sorted part.\n",
    "3. Insert it into the correct position.\n",
    "4. Repeat for all elements.\n",
    "\n",
    "**Example**:\n",
    "For the list `[40, 20, 70, 10]`:\n",
    "- Start with `[40]` (sorted).\n",
    "- Insert `20` → `[20, 40]`.\n",
    "- Insert `70` → `[20, 40, 70]`.\n",
    "- Insert `10` → `[10, 20, 40, 70]`.\n",
    "\n",
    "**Understanding**:\n",
    "\n",
    "This time, you don't have to code it. You just have to understand it!"
   ]
  },
  {
   "cell_type": "code",
   "execution_count": null,
   "metadata": {},
   "outputs": [],
   "source": [
    "# Solution 2, with print() and sleep() to better visualize\n",
    "# Adapted from https://www.geeksforgeeks.org/insertion-sort-algorithm/\n",
    "\n",
    "def insertion_sort(arr: list) -> list:\n",
    "    print(f\"array is: {arr}. Let's start with the second element : {arr[1]}.\")\n",
    "    for i in range(1, len(arr)):\n",
    "        key = arr[i] # The element which is going to be inserted\n",
    "        j = i - 1 # Index of the last element in the sorted portion of the list\n",
    "        \n",
    "        # Move elements of arr[0..i-1], that are greater than key,\n",
    "        # to one position ahead of their current position\n",
    "        \n",
    "        # As long as j is a valid index and the current value is less than the previous value\n",
    "        while j >= 0 and key < arr[j]: \n",
    "            \n",
    "            # Shifts the element at arr[j] one position to the right.\n",
    "            # This creates space for key to be inserted.\n",
    "            arr[j + 1] = arr[j]\n",
    "            print(f\"key ({key}) is < to arr[j] ({arr[j]}). We shift!           Arr: {arr}\")\n",
    "            # Moves the index j one position to the left,\n",
    "            # Continuing the comparison with the next element in the sorted portion.\n",
    "            j -= 1\n",
    "            \n",
    "        # After exiting the while loop, j will be at the position where key should be inserted\n",
    "        arr[j + 1] = key\n",
    "        print(f\"Done with key {key}. Correct position (j) is {j}.  Arr: {arr}\")\n",
    "\n",
    "    return arr\n",
    "\n",
    "insertion_sort([12, 7, 3, 1, 2])\n"
   ]
  },
  {
   "cell_type": "code",
   "execution_count": null,
   "metadata": {},
   "outputs": [],
   "source": [
    "from algo_utils import verify_sort_func\n",
    "\n",
    "verify_sort_func(insertion_sort)"
   ]
  },
  {
   "cell_type": "markdown",
   "metadata": {},
   "source": [
    "## Quick Sort"
   ]
  },
  {
   "cell_type": "markdown",
   "metadata": {},
   "source": [
    "Quick Sort is a divide-and-conquer **recursive** algorithm. It selects a \"pivot\" and partitions the list into two parts: elements smaller than the pivot and elements larger than the pivot.\n",
    "\n",
    "**How it works**:\n",
    "1. Choose a pivot element (it can be any number, the first one, the middle one, a random...)\n",
    "2. Partition the list into two parts.\n",
    "3. Recursively sort the partitions.\n",
    "4. Combine the partitions.\n",
    "\n",
    "**Example**:\n",
    "For the list `[40, 20, 70, 10]`:\n",
    "- Let's randomly pivot `40` (so the first one, but it can be any number).\n",
    "- Partition into `[20, 10]` and `[70]`.\n",
    "- Recursively sort `[20, 10]` → `[10, 20]`.\n",
    "- Combine `[10, 20]`, `40`, and `[70]` → `[10, 20, 40, 70]`.\n",
    "\n",
    "**Hint**:\n",
    "\n",
    "- Only 8 lines of code. It's a very short, but very smart, algorithm!\n",
    "\n",
    "**Course of action**:\n",
    "\n",
    "- First, let's check if `len(arr)` is smaller or equal to 1. In that case return the array.\n",
    "- Otherwise choose a pivot (any number, often the middle element) and store it a variable name `pivot`.\n",
    "- Then create 3 new lists (using list comprehension): `left`, `middle` and `right`:\n",
    "    - All the numbers lower than the pivot go to `left`.\n",
    "    - All the numbers equal than the pivot go to `middle`.\n",
    "    - All the numbers greater than the pivot go to `right`.\n",
    "- Finally apply recusively the fonction `quick_sort` onto the lists `left` and `right`, and return the concatenation of the three lists. This is just one line."
   ]
  },
  {
   "cell_type": "code",
   "execution_count": null,
   "metadata": {},
   "outputs": [],
   "source": [
    "# Code here!\n",
    "def quick_sort(arr):\n",
    "  pass"
   ]
  },
  {
   "cell_type": "markdown",
   "metadata": {},
   "source": [
    "## Merge Sort"
   ]
  },
  {
   "cell_type": "markdown",
   "metadata": {},
   "source": [
    "Merge Sort is an another divide-and-conquer algorithm. It divides the list into halves, sorts them recursively, and merges the sorted halves.\n",
    "\n",
    "**How it works**:\n",
    "1. Divide the list into two halves.\n",
    "2. Recursively sort each half.\n",
    "3. Merge the two sorted halves into one sorted list.\n",
    "\n",
    "**Example**:\n",
    "For the list `[4, 2, 7, 1]`:\n",
    "- Split into `[4, 2]` and `[7, 1]`.\n",
    "- Sort `[4, 2]` → `[2, 4]`; sort `[7, 1]` → `[1, 7]`.\n",
    "- Merge `[2, 4]` and `[1, 7]` → `[1, 2, 4, 7]`.\n",
    "\n",
    "**Understanding**:\n",
    "\n",
    "This time, you don't have to code it. You just have to understand it!"
   ]
  },
  {
   "cell_type": "code",
   "execution_count": null,
   "metadata": {},
   "outputs": [],
   "source": [
    "# With the print and explanations\n",
    "\n",
    "def merge_sorted_lists(left: list, right: list) -> list:\n",
    "    print(f\"We are inside merge_sorted_list, **left** is {left} and **right** is {right}\")\n",
    "    sorted_list = []\n",
    "    i, j = 0, 0\n",
    "\n",
    "    # Merge the two lists while neither is exhausted\n",
    "    while i < len(left) and j < len(right):\n",
    "        if left[i] < right[j]:\n",
    "            sorted_list.append(left[i])\n",
    "            i += 1\n",
    "        else:\n",
    "            sorted_list.append(right[j])\n",
    "            j += 1\n",
    "\n",
    "    # Append the remaining elements of the non-exhausted list\n",
    "    sorted_list.extend(left[i:])\n",
    "    sorted_list.extend(right[j:])\n",
    "    print(f\"We're done merging. 'sorted_list': {sorted_list}\")\n",
    "    return sorted_list\n",
    "\n",
    "def merge_sort(arr: list) -> list:\n",
    "    print(f\"1) >>> The function begins! The arr is : {arr}\")\n",
    "    if len(arr) <= 1: #If array is empty or has only one element\n",
    "        print(f\"2) --- arr has one element or is empty. We return the array.\")\n",
    "        return arr\n",
    "\n",
    "    # Otherwise, let's divide the array in two parts\n",
    "    middle = len(arr) // 2\n",
    "    left_half = arr[:middle]\n",
    "    right_half = arr[middle:]\n",
    "    \n",
    "    print(f\"2) --- Let's divide the array, the 'middle' i is {middle}\")\n",
    "    \n",
    "    print(f\"3) --- Starting to merge the **left** part:\")\n",
    "    sorted_left = merge_sort(left_half)\n",
    "    \n",
    "    print(f\"4) --- Starting to merge the **right** part:\")\n",
    "    sorted_right = merge_sort(right_half)\n",
    "\n",
    "    print(\"5) --- We sorted both the **left** part and the **right** part.\")\n",
    "    return merge_sorted_lists(sorted_left, sorted_right)"
   ]
  },
  {
   "cell_type": "code",
   "execution_count": null,
   "metadata": {},
   "outputs": [],
   "source": [
    "test_list = [40, 20, 70, 10]\n",
    "merge_sort(test_list)"
   ]
  },
  {
   "cell_type": "code",
   "execution_count": null,
   "metadata": {},
   "outputs": [],
   "source": [
    "def merge_sorted_lists(left, right):\n",
    "    sorted_list = []\n",
    "    i, j = 0, 0\n",
    "\n",
    "    while i < len(left) and j < len(right):\n",
    "        if left[i] < right[j]:\n",
    "            sorted_list.append(left[i])\n",
    "            i += 1\n",
    "        else:\n",
    "            sorted_list.append(right[j])\n",
    "            j += 1\n",
    "\n",
    "    sorted_list.extend(left[i:])\n",
    "    sorted_list.extend(right[j:])\n",
    "\n",
    "    return sorted_list\n",
    "\n",
    "def merge_sort(arr):\n",
    "\n",
    "    if len(arr) <= 1:\n",
    "        return arr\n",
    "\n",
    "    middle = len(arr) // 2\n",
    "    left_half = arr[:middle]\n",
    "    right_half = arr[middle:]\n",
    "\n",
    "    sorted_left = merge_sort(left_half)\n",
    "    sorted_right = merge_sort(right_half)\n",
    "\n",
    "    return merge_sorted_lists(sorted_left, sorted_right)"
   ]
  },
  {
   "cell_type": "code",
   "execution_count": null,
   "metadata": {},
   "outputs": [],
   "source": [
    "from algo_utils import verify_sort_func\n",
    "verify_sort_func(merge_sort)"
   ]
  },
  {
   "cell_type": "markdown",
   "metadata": {},
   "source": [
    "# Speed comparison\n",
    "\n",
    "- **Bubble Sort**: Good for educational purposes and small datasets. Not efficient for large datasets.\n",
    "\n",
    "- **Selection Sort**: Good for small datasets and when memory writes are costly. Not efficient for large datasets.\n",
    "\n",
    "- **Insertion Sort**: Good for small datasets and partially sorted datasets. Not efficient for large datasets.\n",
    "\n",
    "- **Quick Sort**: Generally the fastest for large datasets. Good average-case performance but can be slow in the worst case (e.g., already sorted data).\n",
    "- **Merge Sort**: Good for large datasets and linked lists. Stable and has a consistent time complexity of O(n log n).\n",
    "\n",
    "- **Tim Sort**: A mix of Insertion sort and Merge sort, it's the default Python algorithm when you use `sorted()` or `list.sort()`. Good on real-data.\n",
    "\n",
    "❗️❗️❗️ Before running the next cell, make sure **ALL** your sorting functions are defined as the functions **WITHOUT** the `print()`. Otherwise your computer might crash. ❗️❗️❗️"
   ]
  },
  {
   "cell_type": "code",
   "execution_count": null,
   "metadata": {},
   "outputs": [],
   "source": [
    "import time\n",
    "import random\n",
    "import matplotlib.pyplot as plt\n",
    "\n",
    "def measure_performance(algo, arr):\n",
    "    start_time = time.time()\n",
    "    algo(arr)\n",
    "    end_time = time.time()\n",
    "    return end_time - start_time\n",
    "\n",
    "def generate_graph():\n",
    "    list_sizes = [100, 150, 200, 250, 300, 350, 400]\n",
    "    algorithms = {\n",
    "        \"Bubble Sort\": bubble_sort,\n",
    "        \"Selection Sort\": selection_sort,\n",
    "        \"Insertion Sort\": insertion_sort,\n",
    "        \"Quick Sort\": quick_sort,\n",
    "        \"Merge Sort\": merge_sort,\n",
    "        \"Tim Sort (Python)\": sorted,\n",
    "    }\n",
    "\n",
    "    performance_data = {algo_name: [] for algo_name in algorithms}\n",
    "\n",
    "    for size in list_sizes:\n",
    "        arr = [random.randint(0, 10000) for _ in range(size)]\n",
    "        for algo_name, algo in algorithms.items():\n",
    "            time_taken = measure_performance(algo, arr.copy())\n",
    "            performance_data[algo_name].append(time_taken)\n",
    "\n",
    "    # Plotting the graph\n",
    "    for algo_name, times in performance_data.items():\n",
    "        plt.plot(list_sizes, times, label=algo_name)\n",
    "\n",
    "    plt.xlabel('List Size')\n",
    "    plt.ylabel('Time (seconds)')\n",
    "    plt.title('Sorting Algorithms Performance Comparison')\n",
    "    plt.legend()\n",
    "    plt.grid(True)\n",
    "    plt.show()\n",
    "\n",
    "generate_graph()\n"
   ]
  },
  {
   "cell_type": "code",
   "execution_count": null,
   "metadata": {},
   "outputs": [],
   "source": []
  }
 ],
 "metadata": {
  "kernelspec": {
   "display_name": "py131",
   "language": "python",
   "name": "python3"
  },
  "language_info": {
   "codemirror_mode": {
    "name": "ipython",
    "version": 3
   },
   "file_extension": ".py",
   "mimetype": "text/x-python",
   "name": "python",
   "nbconvert_exporter": "python",
   "pygments_lexer": "ipython3",
   "version": "3.13.1"
  }
 },
 "nbformat": 4,
 "nbformat_minor": 2
}
